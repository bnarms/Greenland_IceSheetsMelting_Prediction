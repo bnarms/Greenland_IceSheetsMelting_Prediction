{
 "cells": [
  {
   "cell_type": "code",
   "execution_count": 1,
   "metadata": {
    "colab": {
     "base_uri": "https://localhost:8080/"
    },
    "id": "9vyPGZlBLG3p",
    "outputId": "0c7ce356-70bd-4588-a5b6-d213e61499f4"
   },
   "outputs": [
    {
     "name": "stdout",
     "output_type": "stream",
     "text": [
      "Mounted at /content/drive\n"
     ]
    }
   ],
   "source": [
    " from google.colab import drive\n",
    "drive. mount('/content/drive' )"
   ]
  },
  {
   "cell_type": "code",
   "execution_count": 6,
   "metadata": {
    "id": "jkEJ0sQpLNg-"
   },
   "outputs": [],
   "source": [
    "import numpy as np\n",
    "import pandas as pd\n",
    "import matplotlib.pyplot as plt\n",
    "import sklearn\n",
    "import seaborn as sns"
   ]
  },
  {
   "cell_type": "code",
   "execution_count": 22,
   "metadata": {
    "colab": {
     "base_uri": "https://localhost:8080/",
     "height": 474
    },
    "id": "uFDS9U-8LXde",
    "outputId": "be546626-585c-448e-c49f-6a0460baf0a6"
   },
   "outputs": [
    {
     "data": {
      "text/html": [
       "<div>\n",
       "<style scoped>\n",
       "    .dataframe tbody tr th:only-of-type {\n",
       "        vertical-align: middle;\n",
       "    }\n",
       "\n",
       "    .dataframe tbody tr th {\n",
       "        vertical-align: top;\n",
       "    }\n",
       "\n",
       "    .dataframe thead th {\n",
       "        text-align: right;\n",
       "    }\n",
       "</style>\n",
       "<table border=\"1\" class=\"dataframe\">\n",
       "  <thead>\n",
       "    <tr style=\"text-align: right;\">\n",
       "      <th></th>\n",
       "      <th>YEAR</th>\n",
       "      <th>CO2 CONCENTRATION [PPM]</th>\n",
       "      <th>CH4 CONCENTRATION [PPM]</th>\n",
       "      <th>N2O CONCENTRATION [PPM]</th>\n",
       "      <th>MEAN SEA LEVEL [CM]</th>\n",
       "      <th>POPULATION</th>\n",
       "      <th>TEMPERAUTRE [°C]</th>\n",
       "      <th>STRATOSPHERIC OZONE CONC [Dobson Units (DU)]</th>\n",
       "      <th>ANTARCTIC OZONE HOLE AREA[Million sq.km]</th>\n",
       "      <th>TREE COVER LOSS [Million Hectares(MHa)]</th>\n",
       "      <th>ANTARCTICA ICE MASS [GT]</th>\n",
       "    </tr>\n",
       "  </thead>\n",
       "  <tbody>\n",
       "    <tr>\n",
       "      <th>0</th>\n",
       "      <td>1850</td>\n",
       "      <td>284.70</td>\n",
       "      <td>774.0</td>\n",
       "      <td>270.40</td>\n",
       "      <td>-2.35</td>\n",
       "      <td>1.200000e+09</td>\n",
       "      <td>13.688</td>\n",
       "      <td>NaN</td>\n",
       "      <td>NaN</td>\n",
       "      <td>NaN</td>\n",
       "      <td>NaN</td>\n",
       "    </tr>\n",
       "    <tr>\n",
       "      <th>1</th>\n",
       "      <td>1851</td>\n",
       "      <td>284.90</td>\n",
       "      <td>NaN</td>\n",
       "      <td>270.40</td>\n",
       "      <td>NaN</td>\n",
       "      <td>NaN</td>\n",
       "      <td>13.804</td>\n",
       "      <td>NaN</td>\n",
       "      <td>NaN</td>\n",
       "      <td>NaN</td>\n",
       "      <td>NaN</td>\n",
       "    </tr>\n",
       "    <tr>\n",
       "      <th>2</th>\n",
       "      <td>1852</td>\n",
       "      <td>285.00</td>\n",
       "      <td>NaN</td>\n",
       "      <td>270.40</td>\n",
       "      <td>NaN</td>\n",
       "      <td>NaN</td>\n",
       "      <td>13.809</td>\n",
       "      <td>NaN</td>\n",
       "      <td>NaN</td>\n",
       "      <td>NaN</td>\n",
       "      <td>NaN</td>\n",
       "    </tr>\n",
       "    <tr>\n",
       "      <th>3</th>\n",
       "      <td>1853</td>\n",
       "      <td>285.10</td>\n",
       "      <td>NaN</td>\n",
       "      <td>270.40</td>\n",
       "      <td>NaN</td>\n",
       "      <td>NaN</td>\n",
       "      <td>13.785</td>\n",
       "      <td>NaN</td>\n",
       "      <td>NaN</td>\n",
       "      <td>NaN</td>\n",
       "      <td>NaN</td>\n",
       "    </tr>\n",
       "    <tr>\n",
       "      <th>4</th>\n",
       "      <td>1854</td>\n",
       "      <td>285.30</td>\n",
       "      <td>NaN</td>\n",
       "      <td>270.50</td>\n",
       "      <td>NaN</td>\n",
       "      <td>NaN</td>\n",
       "      <td>13.833</td>\n",
       "      <td>NaN</td>\n",
       "      <td>NaN</td>\n",
       "      <td>NaN</td>\n",
       "      <td>NaN</td>\n",
       "    </tr>\n",
       "    <tr>\n",
       "      <th>...</th>\n",
       "      <td>...</td>\n",
       "      <td>...</td>\n",
       "      <td>...</td>\n",
       "      <td>...</td>\n",
       "      <td>...</td>\n",
       "      <td>...</td>\n",
       "      <td>...</td>\n",
       "      <td>...</td>\n",
       "      <td>...</td>\n",
       "      <td>...</td>\n",
       "      <td>...</td>\n",
       "    </tr>\n",
       "    <tr>\n",
       "      <th>166</th>\n",
       "      <td>2016</td>\n",
       "      <td>408.56</td>\n",
       "      <td>1851.4</td>\n",
       "      <td>329.94</td>\n",
       "      <td>21.48</td>\n",
       "      <td>7.464022e+09</td>\n",
       "      <td>15.125</td>\n",
       "      <td>123.2</td>\n",
       "      <td>20.700000</td>\n",
       "      <td>2.967480e+07</td>\n",
       "      <td>2.945764e+07</td>\n",
       "    </tr>\n",
       "    <tr>\n",
       "      <th>167</th>\n",
       "      <td>2017</td>\n",
       "      <td>412.63</td>\n",
       "      <td>1858.7</td>\n",
       "      <td>331.14</td>\n",
       "      <td>21.42</td>\n",
       "      <td>7.547859e+09</td>\n",
       "      <td>15.011</td>\n",
       "      <td>141.8</td>\n",
       "      <td>17.400000</td>\n",
       "      <td>2.937804e+07</td>\n",
       "      <td>2.945754e+07</td>\n",
       "    </tr>\n",
       "    <tr>\n",
       "      <th>168</th>\n",
       "      <td>2018</td>\n",
       "      <td>418.74</td>\n",
       "      <td>1866.2</td>\n",
       "      <td>331.98</td>\n",
       "      <td>21.36</td>\n",
       "      <td>7.631091e+09</td>\n",
       "      <td>14.945</td>\n",
       "      <td>106.3</td>\n",
       "      <td>22.656782</td>\n",
       "      <td>2.475017e+07</td>\n",
       "      <td>2.945802e+07</td>\n",
       "    </tr>\n",
       "    <tr>\n",
       "      <th>169</th>\n",
       "      <td>2019</td>\n",
       "      <td>415.64</td>\n",
       "      <td>1875.5</td>\n",
       "      <td>333.20</td>\n",
       "      <td>21.97</td>\n",
       "      <td>7.713468e+09</td>\n",
       "      <td>15.078</td>\n",
       "      <td>123.0</td>\n",
       "      <td>20.700000</td>\n",
       "      <td>2.417422e+07</td>\n",
       "      <td>2.945790e+07</td>\n",
       "    </tr>\n",
       "    <tr>\n",
       "      <th>170</th>\n",
       "      <td>2020</td>\n",
       "      <td>413.99</td>\n",
       "      <td>1876.3</td>\n",
       "      <td>333.90</td>\n",
       "      <td>22.01</td>\n",
       "      <td>7.794799e+09</td>\n",
       "      <td>15.158</td>\n",
       "      <td>105.0</td>\n",
       "      <td>24.280000</td>\n",
       "      <td>2.688651e+07</td>\n",
       "      <td>2.945916e+07</td>\n",
       "    </tr>\n",
       "  </tbody>\n",
       "</table>\n",
       "<p>171 rows × 11 columns</p>\n",
       "</div>"
      ],
      "text/plain": [
       "     YEAR  ...  ANTARCTICA ICE MASS [GT]\n",
       "0    1850  ...                       NaN\n",
       "1    1851  ...                       NaN\n",
       "2    1852  ...                       NaN\n",
       "3    1853  ...                       NaN\n",
       "4    1854  ...                       NaN\n",
       "..    ...  ...                       ...\n",
       "166  2016  ...              2.945764e+07\n",
       "167  2017  ...              2.945754e+07\n",
       "168  2018  ...              2.945802e+07\n",
       "169  2019  ...              2.945790e+07\n",
       "170  2020  ...              2.945916e+07\n",
       "\n",
       "[171 rows x 11 columns]"
      ]
     },
     "execution_count": 22,
     "metadata": {
      "tags": []
     },
     "output_type": "execute_result"
    }
   ],
   "source": [
    " '''Load the data and perform exploratory data analysis.'''\n",
    "#loading the data\n",
    "data=pd.read_excel('/content/Dataset.3.xlsx' )\n",
    "data"
   ]
  },
  {
   "cell_type": "code",
   "execution_count": 23,
   "metadata": {
    "colab": {
     "base_uri": "https://localhost:8080/",
     "height": 1000
    },
    "id": "8E6mo-tiMBiI",
    "outputId": "fed19cc7-0ceb-4f64-e10a-7daa5a8feea3"
   },
   "outputs": [
    {
     "data": {
      "text/html": [
       "<div>\n",
       "<style scoped>\n",
       "    .dataframe tbody tr th:only-of-type {\n",
       "        vertical-align: middle;\n",
       "    }\n",
       "\n",
       "    .dataframe tbody tr th {\n",
       "        vertical-align: top;\n",
       "    }\n",
       "\n",
       "    .dataframe thead th {\n",
       "        text-align: right;\n",
       "    }\n",
       "</style>\n",
       "<table border=\"1\" class=\"dataframe\">\n",
       "  <thead>\n",
       "    <tr style=\"text-align: right;\">\n",
       "      <th></th>\n",
       "      <th>YEAR</th>\n",
       "      <th>CO2 CONCENTRATION [PPM]</th>\n",
       "      <th>CH4 CONCENTRATION [PPM]</th>\n",
       "      <th>N2O CONCENTRATION [PPM]</th>\n",
       "      <th>MEAN SEA LEVEL [CM]</th>\n",
       "      <th>POPULATION</th>\n",
       "      <th>TEMPERAUTRE [°C]</th>\n",
       "      <th>STRATOSPHERIC OZONE CONC [Dobson Units (DU)]</th>\n",
       "      <th>ANTARCTIC OZONE HOLE AREA[Million sq.km]</th>\n",
       "      <th>TREE COVER LOSS [Million Hectares(MHa)]</th>\n",
       "      <th>ANTARCTICA ICE MASS [GT]</th>\n",
       "    </tr>\n",
       "  </thead>\n",
       "  <tbody>\n",
       "    <tr>\n",
       "      <th>0</th>\n",
       "      <td>1990</td>\n",
       "      <td>356.63</td>\n",
       "      <td>1723.2</td>\n",
       "      <td>309.26</td>\n",
       "      <td>13.42</td>\n",
       "      <td>5.327231e+09</td>\n",
       "      <td>14.548</td>\n",
       "      <td>124.2</td>\n",
       "      <td>19.200000</td>\n",
       "      <td>7.106544e+06</td>\n",
       "      <td>2.946060e+07</td>\n",
       "    </tr>\n",
       "    <tr>\n",
       "      <th>1</th>\n",
       "      <td>1991</td>\n",
       "      <td>360.03</td>\n",
       "      <td>1739.9</td>\n",
       "      <td>309.73</td>\n",
       "      <td>13.49</td>\n",
       "      <td>5.414289e+09</td>\n",
       "      <td>14.529</td>\n",
       "      <td>119.0</td>\n",
       "      <td>18.800000</td>\n",
       "      <td>7.765876e+06</td>\n",
       "      <td>2.946051e+07</td>\n",
       "    </tr>\n",
       "    <tr>\n",
       "      <th>2</th>\n",
       "      <td>1992</td>\n",
       "      <td>360.25</td>\n",
       "      <td>1739.4</td>\n",
       "      <td>310.12</td>\n",
       "      <td>13.59</td>\n",
       "      <td>5.498920e+09</td>\n",
       "      <td>14.344</td>\n",
       "      <td>114.3</td>\n",
       "      <td>22.300000</td>\n",
       "      <td>8.425208e+06</td>\n",
       "      <td>2.946018e+07</td>\n",
       "    </tr>\n",
       "    <tr>\n",
       "      <th>3</th>\n",
       "      <td>1993</td>\n",
       "      <td>360.70</td>\n",
       "      <td>1745.2</td>\n",
       "      <td>310.47</td>\n",
       "      <td>14.01</td>\n",
       "      <td>5.581598e+09</td>\n",
       "      <td>14.375</td>\n",
       "      <td>112.6</td>\n",
       "      <td>24.200000</td>\n",
       "      <td>9.084540e+06</td>\n",
       "      <td>2.946017e+07</td>\n",
       "    </tr>\n",
       "    <tr>\n",
       "      <th>4</th>\n",
       "      <td>1994</td>\n",
       "      <td>361.78</td>\n",
       "      <td>1751.2</td>\n",
       "      <td>310.88</td>\n",
       "      <td>14.15</td>\n",
       "      <td>5.663150e+09</td>\n",
       "      <td>14.431</td>\n",
       "      <td>92.3</td>\n",
       "      <td>23.600000</td>\n",
       "      <td>9.743872e+06</td>\n",
       "      <td>2.946007e+07</td>\n",
       "    </tr>\n",
       "    <tr>\n",
       "      <th>5</th>\n",
       "      <td>1995</td>\n",
       "      <td>364.18</td>\n",
       "      <td>1755.5</td>\n",
       "      <td>311.50</td>\n",
       "      <td>14.67</td>\n",
       "      <td>5.744213e+09</td>\n",
       "      <td>14.577</td>\n",
       "      <td>94.5</td>\n",
       "      <td>23.000000</td>\n",
       "      <td>1.040320e+07</td>\n",
       "      <td>2.945998e+07</td>\n",
       "    </tr>\n",
       "    <tr>\n",
       "      <th>6</th>\n",
       "      <td>1996</td>\n",
       "      <td>365.43</td>\n",
       "      <td>1760.0</td>\n",
       "      <td>312.49</td>\n",
       "      <td>14.93</td>\n",
       "      <td>5.824892e+09</td>\n",
       "      <td>14.480</td>\n",
       "      <td>108.8</td>\n",
       "      <td>22.800000</td>\n",
       "      <td>1.106254e+07</td>\n",
       "      <td>2.945995e+07</td>\n",
       "    </tr>\n",
       "    <tr>\n",
       "      <th>7</th>\n",
       "      <td>1997</td>\n",
       "      <td>366.80</td>\n",
       "      <td>1761.9</td>\n",
       "      <td>313.19</td>\n",
       "      <td>15.30</td>\n",
       "      <td>5.905046e+09</td>\n",
       "      <td>14.615</td>\n",
       "      <td>108.8</td>\n",
       "      <td>22.100000</td>\n",
       "      <td>1.172187e+07</td>\n",
       "      <td>2.945991e+07</td>\n",
       "    </tr>\n",
       "    <tr>\n",
       "      <th>8</th>\n",
       "      <td>1998</td>\n",
       "      <td>369.41</td>\n",
       "      <td>1764.4</td>\n",
       "      <td>314.45</td>\n",
       "      <td>14.90</td>\n",
       "      <td>5.984794e+09</td>\n",
       "      <td>14.771</td>\n",
       "      <td>98.8</td>\n",
       "      <td>25.900000</td>\n",
       "      <td>1.238120e+07</td>\n",
       "      <td>2.945990e+07</td>\n",
       "    </tr>\n",
       "    <tr>\n",
       "      <th>9</th>\n",
       "      <td>1999</td>\n",
       "      <td>371.11</td>\n",
       "      <td>1777.9</td>\n",
       "      <td>315.02</td>\n",
       "      <td>15.28</td>\n",
       "      <td>6.064239e+09</td>\n",
       "      <td>14.536</td>\n",
       "      <td>102.9</td>\n",
       "      <td>23.300000</td>\n",
       "      <td>1.304053e+07</td>\n",
       "      <td>2.945983e+07</td>\n",
       "    </tr>\n",
       "    <tr>\n",
       "      <th>10</th>\n",
       "      <td>2000</td>\n",
       "      <td>372.10</td>\n",
       "      <td>1777.9</td>\n",
       "      <td>316.21</td>\n",
       "      <td>15.58</td>\n",
       "      <td>6.143494e+09</td>\n",
       "      <td>14.549</td>\n",
       "      <td>98.7</td>\n",
       "      <td>24.800000</td>\n",
       "      <td>1.369987e+07</td>\n",
       "      <td>2.945979e+07</td>\n",
       "    </tr>\n",
       "    <tr>\n",
       "      <th>11</th>\n",
       "      <td>2001</td>\n",
       "      <td>374.05</td>\n",
       "      <td>1776.7</td>\n",
       "      <td>316.92</td>\n",
       "      <td>16.11</td>\n",
       "      <td>6.222627e+09</td>\n",
       "      <td>14.686</td>\n",
       "      <td>100.9</td>\n",
       "      <td>25.000000</td>\n",
       "      <td>1.335465e+07</td>\n",
       "      <td>2.945975e+07</td>\n",
       "    </tr>\n",
       "    <tr>\n",
       "      <th>12</th>\n",
       "      <td>2002</td>\n",
       "      <td>375.92</td>\n",
       "      <td>1779.5</td>\n",
       "      <td>317.27</td>\n",
       "      <td>16.63</td>\n",
       "      <td>6.301773e+09</td>\n",
       "      <td>14.773</td>\n",
       "      <td>157.4</td>\n",
       "      <td>12.000000</td>\n",
       "      <td>1.645270e+07</td>\n",
       "      <td>2.945975e+07</td>\n",
       "    </tr>\n",
       "    <tr>\n",
       "      <th>13</th>\n",
       "      <td>2003</td>\n",
       "      <td>378.79</td>\n",
       "      <td>1784.7</td>\n",
       "      <td>318.15</td>\n",
       "      <td>16.72</td>\n",
       "      <td>6.381185e+09</td>\n",
       "      <td>14.752</td>\n",
       "      <td>108.7</td>\n",
       "      <td>25.800000</td>\n",
       "      <td>1.447536e+07</td>\n",
       "      <td>2.945969e+07</td>\n",
       "    </tr>\n",
       "    <tr>\n",
       "      <th>14</th>\n",
       "      <td>2004</td>\n",
       "      <td>381.04</td>\n",
       "      <td>1780.2</td>\n",
       "      <td>318.85</td>\n",
       "      <td>17.34</td>\n",
       "      <td>6.461159e+09</td>\n",
       "      <td>14.660</td>\n",
       "      <td>123.5</td>\n",
       "      <td>19.500000</td>\n",
       "      <td>1.990870e+07</td>\n",
       "      <td>2.945958e+07</td>\n",
       "    </tr>\n",
       "    <tr>\n",
       "      <th>15</th>\n",
       "      <td>2005</td>\n",
       "      <td>382.58</td>\n",
       "      <td>1780.9</td>\n",
       "      <td>319.68</td>\n",
       "      <td>17.38</td>\n",
       "      <td>6.541907e+09</td>\n",
       "      <td>14.839</td>\n",
       "      <td>113.8</td>\n",
       "      <td>24.400000</td>\n",
       "      <td>1.809829e+07</td>\n",
       "      <td>2.945952e+07</td>\n",
       "    </tr>\n",
       "    <tr>\n",
       "      <th>16</th>\n",
       "      <td>2006</td>\n",
       "      <td>385.34</td>\n",
       "      <td>1779.3</td>\n",
       "      <td>320.44</td>\n",
       "      <td>17.60</td>\n",
       "      <td>6.623518e+09</td>\n",
       "      <td>14.788</td>\n",
       "      <td>98.4</td>\n",
       "      <td>26.600000</td>\n",
       "      <td>1.764969e+07</td>\n",
       "      <td>2.945950e+07</td>\n",
       "    </tr>\n",
       "    <tr>\n",
       "      <th>17</th>\n",
       "      <td>2007</td>\n",
       "      <td>387.00</td>\n",
       "      <td>1789.5</td>\n",
       "      <td>321.22</td>\n",
       "      <td>17.74</td>\n",
       "      <td>6.705947e+09</td>\n",
       "      <td>14.795</td>\n",
       "      <td>116.2</td>\n",
       "      <td>22.000000</td>\n",
       "      <td>1.838796e+07</td>\n",
       "      <td>2.945934e+07</td>\n",
       "    </tr>\n",
       "    <tr>\n",
       "      <th>18</th>\n",
       "      <td>2008</td>\n",
       "      <td>388.84</td>\n",
       "      <td>1797.6</td>\n",
       "      <td>322.23</td>\n",
       "      <td>17.97</td>\n",
       "      <td>6.789089e+09</td>\n",
       "      <td>14.662</td>\n",
       "      <td>114.0</td>\n",
       "      <td>25.200000</td>\n",
       "      <td>1.861114e+07</td>\n",
       "      <td>2.945915e+07</td>\n",
       "    </tr>\n",
       "    <tr>\n",
       "      <th>19</th>\n",
       "      <td>2009</td>\n",
       "      <td>390.76</td>\n",
       "      <td>1798.2</td>\n",
       "      <td>322.71</td>\n",
       "      <td>18.45</td>\n",
       "      <td>6.872767e+09</td>\n",
       "      <td>14.795</td>\n",
       "      <td>107.9</td>\n",
       "      <td>22.000000</td>\n",
       "      <td>1.699166e+07</td>\n",
       "      <td>2.945908e+07</td>\n",
       "    </tr>\n",
       "    <tr>\n",
       "      <th>20</th>\n",
       "      <td>2010</td>\n",
       "      <td>393.55</td>\n",
       "      <td>1807.0</td>\n",
       "      <td>323.78</td>\n",
       "      <td>18.72</td>\n",
       "      <td>6.956824e+09</td>\n",
       "      <td>14.868</td>\n",
       "      <td>128.5</td>\n",
       "      <td>19.400000</td>\n",
       "      <td>1.855336e+07</td>\n",
       "      <td>2.945891e+07</td>\n",
       "    </tr>\n",
       "    <tr>\n",
       "      <th>21</th>\n",
       "      <td>2011</td>\n",
       "      <td>395.12</td>\n",
       "      <td>1812.4</td>\n",
       "      <td>324.82</td>\n",
       "      <td>18.54</td>\n",
       "      <td>7.041194e+09</td>\n",
       "      <td>14.747</td>\n",
       "      <td>106.5</td>\n",
       "      <td>24.700000</td>\n",
       "      <td>1.757921e+07</td>\n",
       "      <td>2.945872e+07</td>\n",
       "    </tr>\n",
       "    <tr>\n",
       "      <th>22</th>\n",
       "      <td>2012</td>\n",
       "      <td>397.28</td>\n",
       "      <td>1816.2</td>\n",
       "      <td>325.42</td>\n",
       "      <td>19.60</td>\n",
       "      <td>7.125828e+09</td>\n",
       "      <td>14.754</td>\n",
       "      <td>139.3</td>\n",
       "      <td>17.800000</td>\n",
       "      <td>2.353229e+07</td>\n",
       "      <td>2.945854e+07</td>\n",
       "    </tr>\n",
       "    <tr>\n",
       "      <th>23</th>\n",
       "      <td>2013</td>\n",
       "      <td>400.22</td>\n",
       "      <td>1820.6</td>\n",
       "      <td>326.47</td>\n",
       "      <td>19.69</td>\n",
       "      <td>7.210582e+09</td>\n",
       "      <td>14.782</td>\n",
       "      <td>132.7</td>\n",
       "      <td>21.000000</td>\n",
       "      <td>2.064326e+07</td>\n",
       "      <td>2.945832e+07</td>\n",
       "    </tr>\n",
       "    <tr>\n",
       "      <th>24</th>\n",
       "      <td>2014</td>\n",
       "      <td>402.18</td>\n",
       "      <td>1833.3</td>\n",
       "      <td>327.80</td>\n",
       "      <td>20.45</td>\n",
       "      <td>7.295291e+09</td>\n",
       "      <td>14.847</td>\n",
       "      <td>128.6</td>\n",
       "      <td>20.900000</td>\n",
       "      <td>2.373272e+07</td>\n",
       "      <td>2.945805e+07</td>\n",
       "    </tr>\n",
       "    <tr>\n",
       "      <th>25</th>\n",
       "      <td>2015</td>\n",
       "      <td>404.31</td>\n",
       "      <td>1844.8</td>\n",
       "      <td>328.67</td>\n",
       "      <td>21.41</td>\n",
       "      <td>7.379797e+09</td>\n",
       "      <td>14.988</td>\n",
       "      <td>117.2</td>\n",
       "      <td>25.600000</td>\n",
       "      <td>1.962233e+07</td>\n",
       "      <td>2.945777e+07</td>\n",
       "    </tr>\n",
       "    <tr>\n",
       "      <th>26</th>\n",
       "      <td>2016</td>\n",
       "      <td>408.56</td>\n",
       "      <td>1851.4</td>\n",
       "      <td>329.94</td>\n",
       "      <td>21.48</td>\n",
       "      <td>7.464022e+09</td>\n",
       "      <td>15.125</td>\n",
       "      <td>123.2</td>\n",
       "      <td>20.700000</td>\n",
       "      <td>2.967480e+07</td>\n",
       "      <td>2.945764e+07</td>\n",
       "    </tr>\n",
       "    <tr>\n",
       "      <th>27</th>\n",
       "      <td>2017</td>\n",
       "      <td>412.63</td>\n",
       "      <td>1858.7</td>\n",
       "      <td>331.14</td>\n",
       "      <td>21.42</td>\n",
       "      <td>7.547859e+09</td>\n",
       "      <td>15.011</td>\n",
       "      <td>141.8</td>\n",
       "      <td>17.400000</td>\n",
       "      <td>2.937804e+07</td>\n",
       "      <td>2.945754e+07</td>\n",
       "    </tr>\n",
       "    <tr>\n",
       "      <th>28</th>\n",
       "      <td>2018</td>\n",
       "      <td>418.74</td>\n",
       "      <td>1866.2</td>\n",
       "      <td>331.98</td>\n",
       "      <td>21.36</td>\n",
       "      <td>7.631091e+09</td>\n",
       "      <td>14.945</td>\n",
       "      <td>106.3</td>\n",
       "      <td>22.656782</td>\n",
       "      <td>2.475017e+07</td>\n",
       "      <td>2.945802e+07</td>\n",
       "    </tr>\n",
       "    <tr>\n",
       "      <th>29</th>\n",
       "      <td>2019</td>\n",
       "      <td>415.64</td>\n",
       "      <td>1875.5</td>\n",
       "      <td>333.20</td>\n",
       "      <td>21.97</td>\n",
       "      <td>7.713468e+09</td>\n",
       "      <td>15.078</td>\n",
       "      <td>123.0</td>\n",
       "      <td>20.700000</td>\n",
       "      <td>2.417422e+07</td>\n",
       "      <td>2.945790e+07</td>\n",
       "    </tr>\n",
       "    <tr>\n",
       "      <th>30</th>\n",
       "      <td>2020</td>\n",
       "      <td>413.99</td>\n",
       "      <td>1876.3</td>\n",
       "      <td>333.90</td>\n",
       "      <td>22.01</td>\n",
       "      <td>7.794799e+09</td>\n",
       "      <td>15.158</td>\n",
       "      <td>105.0</td>\n",
       "      <td>24.280000</td>\n",
       "      <td>2.688651e+07</td>\n",
       "      <td>2.945916e+07</td>\n",
       "    </tr>\n",
       "  </tbody>\n",
       "</table>\n",
       "</div>"
      ],
      "text/plain": [
       "    YEAR  ...  ANTARCTICA ICE MASS [GT]\n",
       "0   1990  ...              2.946060e+07\n",
       "1   1991  ...              2.946051e+07\n",
       "2   1992  ...              2.946018e+07\n",
       "3   1993  ...              2.946017e+07\n",
       "4   1994  ...              2.946007e+07\n",
       "5   1995  ...              2.945998e+07\n",
       "6   1996  ...              2.945995e+07\n",
       "7   1997  ...              2.945991e+07\n",
       "8   1998  ...              2.945990e+07\n",
       "9   1999  ...              2.945983e+07\n",
       "10  2000  ...              2.945979e+07\n",
       "11  2001  ...              2.945975e+07\n",
       "12  2002  ...              2.945975e+07\n",
       "13  2003  ...              2.945969e+07\n",
       "14  2004  ...              2.945958e+07\n",
       "15  2005  ...              2.945952e+07\n",
       "16  2006  ...              2.945950e+07\n",
       "17  2007  ...              2.945934e+07\n",
       "18  2008  ...              2.945915e+07\n",
       "19  2009  ...              2.945908e+07\n",
       "20  2010  ...              2.945891e+07\n",
       "21  2011  ...              2.945872e+07\n",
       "22  2012  ...              2.945854e+07\n",
       "23  2013  ...              2.945832e+07\n",
       "24  2014  ...              2.945805e+07\n",
       "25  2015  ...              2.945777e+07\n",
       "26  2016  ...              2.945764e+07\n",
       "27  2017  ...              2.945754e+07\n",
       "28  2018  ...              2.945802e+07\n",
       "29  2019  ...              2.945790e+07\n",
       "30  2020  ...              2.945916e+07\n",
       "\n",
       "[31 rows x 11 columns]"
      ]
     },
     "execution_count": 23,
     "metadata": {
      "tags": []
     },
     "output_type": "execute_result"
    }
   ],
   "source": [
    "df=data.dropna().reset_index(drop=True)\n",
    "df"
   ]
  },
  {
   "cell_type": "code",
   "execution_count": 24,
   "metadata": {
    "colab": {
     "base_uri": "https://localhost:8080/"
    },
    "id": "jucW3WEOM8uT",
    "outputId": "cfdd1d70-2de2-44d0-b063-95a703289ba8"
   },
   "outputs": [
    {
     "name": "stdout",
     "output_type": "stream",
     "text": [
      "<class 'pandas.core.frame.DataFrame'>\n",
      "RangeIndex: 31 entries, 0 to 30\n",
      "Data columns (total 11 columns):\n",
      " #   Column                                        Non-Null Count  Dtype  \n",
      "---  ------                                        --------------  -----  \n",
      " 0   YEAR                                          31 non-null     int64  \n",
      " 1   CO2 CONCENTRATION [PPM]                       31 non-null     float64\n",
      " 2   CH4 CONCENTRATION [PPM]                       31 non-null     float64\n",
      " 3   N2O CONCENTRATION [PPM]                       31 non-null     float64\n",
      " 4   MEAN SEA LEVEL [CM]                           31 non-null     float64\n",
      " 5   POPULATION                                    31 non-null     float64\n",
      " 6   TEMPERAUTRE [°C]                              31 non-null     float64\n",
      " 7   STRATOSPHERIC OZONE CONC [Dobson Units (DU)]  31 non-null     float64\n",
      " 8   ANTARCTIC OZONE HOLE AREA[Million sq.km]      31 non-null     float64\n",
      " 9   TREE COVER LOSS [Million Hectares(MHa)]       31 non-null     float64\n",
      " 10  ANTARCTICA ICE MASS [GT]                      31 non-null     float64\n",
      "dtypes: float64(10), int64(1)\n",
      "memory usage: 2.8 KB\n"
     ]
    }
   ],
   "source": [
    "df.info()"
   ]
  },
  {
   "cell_type": "code",
   "execution_count": 10,
   "metadata": {
    "colab": {
     "base_uri": "https://localhost:8080/"
    },
    "id": "6_QsuCToNR1X",
    "outputId": "881c6c31-6ac5-4954-ccc5-ff32db61639a"
   },
   "outputs": [
    {
     "data": {
      "text/plain": [
       "<bound method NDFrame.describe of     YEAR  ...  ANTARCTICA ICE MASS [GT]\n",
       "0   1990  ...              2.946060e+07\n",
       "1   1991  ...              2.946051e+07\n",
       "2   1992  ...              2.946018e+07\n",
       "3   1993  ...              2.946017e+07\n",
       "4   1994  ...              2.946007e+07\n",
       "5   1995  ...              2.945998e+07\n",
       "6   1996  ...              2.945995e+07\n",
       "7   1997  ...              2.945991e+07\n",
       "8   1998  ...              2.945990e+07\n",
       "9   1999  ...              2.945983e+07\n",
       "10  2000  ...              2.945979e+07\n",
       "11  2001  ...              2.945975e+07\n",
       "12  2002  ...              2.945975e+07\n",
       "13  2003  ...              2.945969e+07\n",
       "14  2004  ...              2.945958e+07\n",
       "15  2005  ...              2.945952e+07\n",
       "16  2006  ...              2.945950e+07\n",
       "17  2007  ...              2.945934e+07\n",
       "18  2008  ...              2.945915e+07\n",
       "19  2009  ...              2.945908e+07\n",
       "20  2010  ...              2.945891e+07\n",
       "21  2011  ...              2.945872e+07\n",
       "22  2012  ...              2.945854e+07\n",
       "23  2013  ...              2.945832e+07\n",
       "24  2014  ...              2.945805e+07\n",
       "25  2015  ...              2.945777e+07\n",
       "26  2016  ...              2.945764e+07\n",
       "27  2017  ...              2.945754e+07\n",
       "28  2018  ...              2.945802e+07\n",
       "29  2019  ...              2.945790e+07\n",
       "30  2020  ...              2.945916e+07\n",
       "\n",
       "[31 rows x 11 columns]>"
      ]
     },
     "execution_count": 10,
     "metadata": {
      "tags": []
     },
     "output_type": "execute_result"
    }
   ],
   "source": [
    "df.describe"
   ]
  },
  {
   "cell_type": "code",
   "execution_count": 11,
   "metadata": {
    "colab": {
     "base_uri": "https://localhost:8080/",
     "height": 604
    },
    "id": "zyRiZTd-NXc3",
    "outputId": "4c170ad1-a34a-45d2-851d-c76dc70e68b8"
   },
   "outputs": [
    {
     "data": {
      "image/png": "[encoded data removed]",
      "text/plain": [
       "<Figure size 2160x1296 with 12 Axes>"
      ]
     },
     "metadata": {
      "needs_background": "light",
      "tags": []
     },
     "output_type": "display_data"
    }
   ],
   "source": [
    "''' Plot histogram'''\n",
    "df.hist(bins=30, figsize=(30, 18))\n",
    "plt. show()"
   ]
  },
  {
   "cell_type": "markdown",
   "metadata": {
    "id": "vhycePN0OVYT"
   },
   "source": [
    "**Observations:**\n",
    "1. \n",
    "2.\n",
    "3."
   ]
  },
  {
   "cell_type": "code",
   "execution_count": 84,
   "metadata": {
    "colab": {
     "base_uri": "https://localhost:8080/",
     "height": 295
    },
    "id": "4cnTJY0-OoVC",
    "outputId": "5122a122-5295-46a5-a369-168270ad175c"
   },
   "outputs": [
    {
     "data": {
      "image/png": "[encoded data removed]",
      "text/plain": [
       "<Figure size 432x288 with 1 Axes>"
      ]
     },
     "metadata": {
      "needs_background": "light",
      "tags": []
     },
     "output_type": "display_data"
    }
   ],
   "source": [
    "''' Plot of all factors causing melting of ice over the years'''\n",
    "plt.plot( df[ 'YEAR' ],df[ 'CO2 CONCENTRATION [PPM]' ],)\n",
    "plt. ylabel('CO2 CONCENTRATION [PPM]' )\n",
    "plt. xlabel('YEAR' )\n",
    "plt. title('CO2 CONCENTRATION [PPM]' )\n",
    "plt. show()"
   ]
  },
  {
   "cell_type": "code",
   "execution_count": 31,
   "metadata": {
    "colab": {
     "base_uri": "https://localhost:8080/",
     "height": 295
    },
    "id": "3loH3UCEWc9d",
    "outputId": "5420b299-e4d6-4790-8bc9-ee4292f74760"
   },
   "outputs": [
    {
     "data": {
      "image/png": "[encoded data removed]",
      "text/plain": [
       "<Figure size 432x288 with 1 Axes>"
      ]
     },
     "metadata": {
      "needs_background": "light",
      "tags": []
     },
     "output_type": "display_data"
    }
   ],
   "source": [
    "plt.plot( df[ 'YEAR' ],df[ 'CH4 CONCENTRATION [PPM]' ],)\n",
    "plt. ylabel('CH4 CONCENTRATION [PPM]' )\n",
    "plt. xlabel('YEAR' )\n",
    "plt. title('CH4 CONCENTRATION [PPM]' )\n",
    "plt. show()"
   ]
  },
  {
   "cell_type": "code",
   "execution_count": 32,
   "metadata": {
    "colab": {
     "base_uri": "https://localhost:8080/",
     "height": 295
    },
    "id": "e-0cEmVQWiz7",
    "outputId": "b7db565e-f1d3-405c-de7d-40a0e6800260"
   },
   "outputs": [
    {
     "data": {
      "image/png": "[encoded data removed]",
      "text/plain": [
       "<Figure size 432x288 with 1 Axes>"
      ]
     },
     "metadata": {
      "needs_background": "light",
      "tags": []
     },
     "output_type": "display_data"
    }
   ],
   "source": [
    "plt.plot( df[ 'YEAR' ],df[ 'N2O CONCENTRATION [PPM]' ],)\n",
    "plt. ylabel('N2O CONCENTRATION [PPM]' )\n",
    "plt. xlabel('YEAR' )\n",
    "plt. title('N2O CONCENTRATION [PPM]' )\n",
    "plt. show()"
   ]
  },
  {
   "cell_type": "code",
   "execution_count": 33,
   "metadata": {
    "colab": {
     "base_uri": "https://localhost:8080/",
     "height": 295
    },
    "id": "2jH0qFhSWlyK",
    "outputId": "461dad6f-5711-4a35-89cc-651c9b6e1690"
   },
   "outputs": [
    {
     "data": {
      "image/png": "[encoded data removed]",
      "text/plain": [
       "<Figure size 432x288 with 1 Axes>"
      ]
     },
     "metadata": {
      "needs_background": "light",
      "tags": []
     },
     "output_type": "display_data"
    }
   ],
   "source": [
    "plt.plot( df[ 'YEAR' ],df[ 'MEAN SEA LEVEL [CM]' ],)\n",
    "plt. ylabel('MEAN SEA LEVEL [CM]' )\n",
    "plt. xlabel('YEAR' )\n",
    "plt. title('MEAN SEA LEVEL [CM]' )\n",
    "plt. show()"
   ]
  },
  {
   "cell_type": "code",
   "execution_count": 36,
   "metadata": {
    "colab": {
     "base_uri": "https://localhost:8080/",
     "height": 295
    },
    "id": "pn7EXqlLWpp0",
    "outputId": "7cc6aadc-9ddd-4ecc-aa3f-6e970907f96f"
   },
   "outputs": [
    {
     "data": {
      "image/png": "[encoded data removed]",
      "text/plain": [
       "<Figure size 432x288 with 1 Axes>"
      ]
     },
     "metadata": {
      "needs_background": "light",
      "tags": []
     },
     "output_type": "display_data"
    }
   ],
   "source": [
    "plt.plot( df[ 'YEAR' ],df[ 'POPULATION' ],)\n",
    "plt. ylabel('POPULATION' )\n",
    "plt. xlabel('YEAR' )\n",
    "plt. title('POPULATION' )\n",
    "plt. show()"
   ]
  },
  {
   "cell_type": "code",
   "execution_count": 35,
   "metadata": {
    "colab": {
     "base_uri": "https://localhost:8080/",
     "height": 295
    },
    "id": "jfS2CGyhWsbH",
    "outputId": "1cab1468-0347-4da4-a450-dab51b292a98"
   },
   "outputs": [
    {
     "data": {
      "image/png": "[encoded data removed]",
      "text/plain": [
       "<Figure size 432x288 with 1 Axes>"
      ]
     },
     "metadata": {
      "needs_background": "light",
      "tags": []
     },
     "output_type": "display_data"
    }
   ],
   "source": [
    "plt.plot( df[ 'YEAR' ],df[ 'TEMPERAUTRE [°C]' ],)\n",
    "plt. ylabel('TEMPERAUTRE [°C]' )\n",
    "plt. xlabel('YEAR' )\n",
    "plt. title('TEMPERAUTRE [°C]' )\n",
    "plt. show()"
   ]
  },
  {
   "cell_type": "code",
   "execution_count": 37,
   "metadata": {
    "colab": {
     "base_uri": "https://localhost:8080/",
     "height": 295
    },
    "id": "pAqvhUV9WyhT",
    "outputId": "a5bb8723-9256-45ed-8989-17d37e3781bc"
   },
   "outputs": [
    {
     "data": {
      "image/png": "[encoded data removed]",
      "text/plain": [
       "<Figure size 432x288 with 1 Axes>"
      ]
     },
     "metadata": {
      "needs_background": "light",
      "tags": []
     },
     "output_type": "display_data"
    }
   ],
   "source": [
    "plt.plot( df[ 'YEAR' ],df[ 'ANTARCTICA ICE MASS [GT]' ],)\n",
    "plt. ylabel('ANTARCTICA ICE MASS [GT]' )\n",
    "plt. xlabel('YEAR' )\n",
    "plt. title('ANTARCTICA ICE MASS [GT]' )\n",
    "plt. show()"
   ]
  },
  {
   "cell_type": "code",
   "execution_count": 38,
   "metadata": {
    "colab": {
     "base_uri": "https://localhost:8080/",
     "height": 299
    },
    "id": "E-wGD8cjXIEP",
    "outputId": "eeab231c-693c-4b38-df47-1df833fb1fc3"
   },
   "outputs": [
    {
     "data": {
      "image/png": "[encoded data removed]",
      "text/plain": [
       "<Figure size 432x288 with 1 Axes>"
      ]
     },
     "metadata": {
      "needs_background": "light",
      "tags": []
     },
     "output_type": "display_data"
    }
   ],
   "source": [
    "plt.plot( df[ 'YEAR' ],df[ 'STRATOSPHERIC OZONE CONC [Dobson Units (DU)]' ],)\n",
    "plt. ylabel('STRATOSPHERIC OZONE CONC [Dobson Units (DU)]' )\n",
    "plt. xlabel('YEAR' )\n",
    "plt. title('STRATOSPHERIC OZONE CONC [Dobson Units (DU)]' )\n",
    "plt. show()"
   ]
  },
  {
   "cell_type": "code",
   "execution_count": 39,
   "metadata": {
    "colab": {
     "base_uri": "https://localhost:8080/",
     "height": 295
    },
    "id": "xIi1zS--XbhE",
    "outputId": "f9286b37-ee16-4c1e-d63d-b2b8e9648dcb"
   },
   "outputs": [
    {
     "data": {
      "image/png": "[encoded data removed]",
      "text/plain": [
       "<Figure size 432x288 with 1 Axes>"
      ]
     },
     "metadata": {
      "needs_background": "light",
      "tags": []
     },
     "output_type": "display_data"
    }
   ],
   "source": [
    "plt.plot( df[ 'YEAR' ],df[ 'ANTARCTIC OZONE HOLE AREA[Million sq.km]' ],)\n",
    "plt. ylabel('ANTARCTIC OZONE HOLE AREA[Million sq.km]' )\n",
    "plt. xlabel('YEAR' )\n",
    "plt. title('ANTARCTIC OZONE HOLE AREA[Million sq.km]' )\n",
    "plt. show()"
   ]
  },
  {
   "cell_type": "code",
   "execution_count": 40,
   "metadata": {
    "colab": {
     "base_uri": "https://localhost:8080/",
     "height": 295
    },
    "id": "J_suRIeBXsDv",
    "outputId": "31ba6118-aae5-41da-8187-8b9e9b38061a"
   },
   "outputs": [
    {
     "data": {
      "image/png": "[encoded data removed]",
      "text/plain": [
       "<Figure size 432x288 with 1 Axes>"
      ]
     },
     "metadata": {
      "needs_background": "light",
      "tags": []
     },
     "output_type": "display_data"
    }
   ],
   "source": [
    "plt.plot( df[ 'YEAR' ],df[ 'TREE COVER LOSS [Million Hectares(MHa)]' ],)\n",
    "plt. ylabel('TREE COVER LOSS [Million Hectares(MHa)]' )\n",
    "plt. xlabel('YEAR' )\n",
    "plt. title('TREE COVER LOSS [Million Hectares(MHa)]' )\n",
    "plt. show()"
   ]
  },
  {
   "cell_type": "code",
   "execution_count": 86,
   "metadata": {
    "colab": {
     "base_uri": "https://localhost:8080/"
    },
    "id": "ZParZmkpX_6c",
    "outputId": "29c12f68-5e73-4e2a-bad0-6d99984cb9f7"
   },
   "outputs": [
    {
     "name": "stdout",
     "output_type": "stream",
     "text": [
      "There is 10 strongly correlated values with ANTARCTICA ICE MASS [GT]:\n",
      "MEAN SEA LEVEL [CM]                            -0.935859\n",
      "CO2 CONCENTRATION [PPM]                        -0.930895\n",
      "POPULATION                                     -0.921305\n",
      "N2O CONCENTRATION [PPM]                        -0.920092\n",
      "YEAR                                           -0.919582\n",
      "CH4 CONCENTRATION [PPM]                        -0.913810\n",
      "TREE COVER LOSS [Million Hectares(MHa)]        -0.893954\n",
      "TEMPERAUTRE [°C]                               -0.798626\n",
      "STRATOSPHERIC OZONE CONC [Dobson Units (DU)]   -0.391285\n",
      "ANTARCTIC OZONE HOLE AREA[Million sq.km]        0.130236\n",
      "Name: ANTARCTICA ICE MASS [GT], dtype: float64\n"
     ]
    }
   ],
   "source": [
    "''' Correlation between factors an ice concentration'''\n",
    "df_corr = df.corr()['ANTARCTICA ICE MASS [GT]'][:-1]\n",
    "climate_features_list = df_corr[abs(df_corr) > 0.0].sort_values(ascending=True)\n",
    "print(\"There is {} strongly correlated values with ANTARCTICA ICE MASS [GT]:\\n{}\".format(len(climate_features_list), climate_features_list))"
   ]
  },
  {
   "cell_type": "code",
   "execution_count": 12,
   "metadata": {
    "colab": {
     "base_uri": "https://localhost:8080/",
     "height": 625
    },
    "id": "QXII8lZLb34h",
    "outputId": "9132d6e8-cb35-4311-b453-ff2f48c6975a"
   },
   "outputs": [
    {
     "data": {
      "text/html": [
       "<style  type=\"text/css\" >\n",
       "#T_718d381c_2a18_11eb_88ac_0242ac1c0002row0_col0,#T_718d381c_2a18_11eb_88ac_0242ac1c0002row0_col1,#T_718d381c_2a18_11eb_88ac_0242ac1c0002row0_col3,#T_718d381c_2a18_11eb_88ac_0242ac1c0002row0_col5,#T_718d381c_2a18_11eb_88ac_0242ac1c0002row1_col0,#T_718d381c_2a18_11eb_88ac_0242ac1c0002row1_col1,#T_718d381c_2a18_11eb_88ac_0242ac1c0002row1_col3,#T_718d381c_2a18_11eb_88ac_0242ac1c0002row1_col5,#T_718d381c_2a18_11eb_88ac_0242ac1c0002row2_col2,#T_718d381c_2a18_11eb_88ac_0242ac1c0002row3_col0,#T_718d381c_2a18_11eb_88ac_0242ac1c0002row3_col1,#T_718d381c_2a18_11eb_88ac_0242ac1c0002row3_col3,#T_718d381c_2a18_11eb_88ac_0242ac1c0002row3_col4,#T_718d381c_2a18_11eb_88ac_0242ac1c0002row3_col5,#T_718d381c_2a18_11eb_88ac_0242ac1c0002row4_col3,#T_718d381c_2a18_11eb_88ac_0242ac1c0002row4_col4,#T_718d381c_2a18_11eb_88ac_0242ac1c0002row4_col5,#T_718d381c_2a18_11eb_88ac_0242ac1c0002row5_col0,#T_718d381c_2a18_11eb_88ac_0242ac1c0002row5_col1,#T_718d381c_2a18_11eb_88ac_0242ac1c0002row5_col3,#T_718d381c_2a18_11eb_88ac_0242ac1c0002row5_col4,#T_718d381c_2a18_11eb_88ac_0242ac1c0002row5_col5,#T_718d381c_2a18_11eb_88ac_0242ac1c0002row6_col6,#T_718d381c_2a18_11eb_88ac_0242ac1c0002row7_col7,#T_718d381c_2a18_11eb_88ac_0242ac1c0002row8_col8,#T_718d381c_2a18_11eb_88ac_0242ac1c0002row9_col9,#T_718d381c_2a18_11eb_88ac_0242ac1c0002row10_col10{\n",
       "            background-color:  #b40426;\n",
       "            color:  #f1f1f1;\n",
       "        }#T_718d381c_2a18_11eb_88ac_0242ac1c0002row0_col2,#T_718d381c_2a18_11eb_88ac_0242ac1c0002row2_col0,#T_718d381c_2a18_11eb_88ac_0242ac1c0002row2_col4,#T_718d381c_2a18_11eb_88ac_0242ac1c0002row2_col5,#T_718d381c_2a18_11eb_88ac_0242ac1c0002row4_col2,#T_718d381c_2a18_11eb_88ac_0242ac1c0002row5_col2{\n",
       "            background-color:  #b8122a;\n",
       "            color:  #f1f1f1;\n",
       "        }#T_718d381c_2a18_11eb_88ac_0242ac1c0002row0_col4,#T_718d381c_2a18_11eb_88ac_0242ac1c0002row1_col4,#T_718d381c_2a18_11eb_88ac_0242ac1c0002row4_col0,#T_718d381c_2a18_11eb_88ac_0242ac1c0002row4_col1{\n",
       "            background-color:  #b50927;\n",
       "            color:  #f1f1f1;\n",
       "        }#T_718d381c_2a18_11eb_88ac_0242ac1c0002row0_col6,#T_718d381c_2a18_11eb_88ac_0242ac1c0002row1_col6,#T_718d381c_2a18_11eb_88ac_0242ac1c0002row5_col6,#T_718d381c_2a18_11eb_88ac_0242ac1c0002row6_col2{\n",
       "            background-color:  #c83836;\n",
       "            color:  #f1f1f1;\n",
       "        }#T_718d381c_2a18_11eb_88ac_0242ac1c0002row0_col7,#T_718d381c_2a18_11eb_88ac_0242ac1c0002row5_col7{\n",
       "            background-color:  #f5c2aa;\n",
       "            color:  #000000;\n",
       "        }#T_718d381c_2a18_11eb_88ac_0242ac1c0002row0_col8,#T_718d381c_2a18_11eb_88ac_0242ac1c0002row5_col8{\n",
       "            background-color:  #c7d7f0;\n",
       "            color:  #000000;\n",
       "        }#T_718d381c_2a18_11eb_88ac_0242ac1c0002row0_col9,#T_718d381c_2a18_11eb_88ac_0242ac1c0002row1_col9,#T_718d381c_2a18_11eb_88ac_0242ac1c0002row3_col9,#T_718d381c_2a18_11eb_88ac_0242ac1c0002row4_col9,#T_718d381c_2a18_11eb_88ac_0242ac1c0002row5_col9,#T_718d381c_2a18_11eb_88ac_0242ac1c0002row9_col0,#T_718d381c_2a18_11eb_88ac_0242ac1c0002row9_col1,#T_718d381c_2a18_11eb_88ac_0242ac1c0002row9_col3,#T_718d381c_2a18_11eb_88ac_0242ac1c0002row9_col4,#T_718d381c_2a18_11eb_88ac_0242ac1c0002row9_col5{\n",
       "            background-color:  #bd1f2d;\n",
       "            color:  #f1f1f1;\n",
       "        }#T_718d381c_2a18_11eb_88ac_0242ac1c0002row0_col10,#T_718d381c_2a18_11eb_88ac_0242ac1c0002row2_col10,#T_718d381c_2a18_11eb_88ac_0242ac1c0002row3_col10{\n",
       "            background-color:  #3d50c3;\n",
       "            color:  #f1f1f1;\n",
       "        }#T_718d381c_2a18_11eb_88ac_0242ac1c0002row1_col2,#T_718d381c_2a18_11eb_88ac_0242ac1c0002row2_col1,#T_718d381c_2a18_11eb_88ac_0242ac1c0002row2_col3,#T_718d381c_2a18_11eb_88ac_0242ac1c0002row3_col2{\n",
       "            background-color:  #b70d28;\n",
       "            color:  #f1f1f1;\n",
       "        }#T_718d381c_2a18_11eb_88ac_0242ac1c0002row1_col7,#T_718d381c_2a18_11eb_88ac_0242ac1c0002row3_col7{\n",
       "            background-color:  #f5c1a9;\n",
       "            color:  #000000;\n",
       "        }#T_718d381c_2a18_11eb_88ac_0242ac1c0002row1_col8{\n",
       "            background-color:  #c4d5f3;\n",
       "            color:  #000000;\n",
       "        }#T_718d381c_2a18_11eb_88ac_0242ac1c0002row1_col10,#T_718d381c_2a18_11eb_88ac_0242ac1c0002row4_col10,#T_718d381c_2a18_11eb_88ac_0242ac1c0002row7_col8,#T_718d381c_2a18_11eb_88ac_0242ac1c0002row8_col7,#T_718d381c_2a18_11eb_88ac_0242ac1c0002row10_col0,#T_718d381c_2a18_11eb_88ac_0242ac1c0002row10_col1,#T_718d381c_2a18_11eb_88ac_0242ac1c0002row10_col2,#T_718d381c_2a18_11eb_88ac_0242ac1c0002row10_col3,#T_718d381c_2a18_11eb_88ac_0242ac1c0002row10_col4,#T_718d381c_2a18_11eb_88ac_0242ac1c0002row10_col5,#T_718d381c_2a18_11eb_88ac_0242ac1c0002row10_col6,#T_718d381c_2a18_11eb_88ac_0242ac1c0002row10_col9{\n",
       "            background-color:  #3b4cc0;\n",
       "            color:  #f1f1f1;\n",
       "        }#T_718d381c_2a18_11eb_88ac_0242ac1c0002row2_col6{\n",
       "            background-color:  #ca3b37;\n",
       "            color:  #f1f1f1;\n",
       "        }#T_718d381c_2a18_11eb_88ac_0242ac1c0002row2_col7,#T_718d381c_2a18_11eb_88ac_0242ac1c0002row7_col6{\n",
       "            background-color:  #f3c8b2;\n",
       "            color:  #000000;\n",
       "        }#T_718d381c_2a18_11eb_88ac_0242ac1c0002row2_col8,#T_718d381c_2a18_11eb_88ac_0242ac1c0002row3_col8{\n",
       "            background-color:  #c6d6f1;\n",
       "            color:  #000000;\n",
       "        }#T_718d381c_2a18_11eb_88ac_0242ac1c0002row2_col9,#T_718d381c_2a18_11eb_88ac_0242ac1c0002row9_col2{\n",
       "            background-color:  #c12b30;\n",
       "            color:  #f1f1f1;\n",
       "        }#T_718d381c_2a18_11eb_88ac_0242ac1c0002row3_col6,#T_718d381c_2a18_11eb_88ac_0242ac1c0002row6_col0,#T_718d381c_2a18_11eb_88ac_0242ac1c0002row6_col1,#T_718d381c_2a18_11eb_88ac_0242ac1c0002row6_col5{\n",
       "            background-color:  #c73635;\n",
       "            color:  #f1f1f1;\n",
       "        }#T_718d381c_2a18_11eb_88ac_0242ac1c0002row4_col6,#T_718d381c_2a18_11eb_88ac_0242ac1c0002row6_col3{\n",
       "            background-color:  #c53334;\n",
       "            color:  #f1f1f1;\n",
       "        }#T_718d381c_2a18_11eb_88ac_0242ac1c0002row4_col7,#T_718d381c_2a18_11eb_88ac_0242ac1c0002row7_col1{\n",
       "            background-color:  #f6bda2;\n",
       "            color:  #000000;\n",
       "        }#T_718d381c_2a18_11eb_88ac_0242ac1c0002row4_col8,#T_718d381c_2a18_11eb_88ac_0242ac1c0002row6_col8{\n",
       "            background-color:  #c1d4f4;\n",
       "            color:  #000000;\n",
       "        }#T_718d381c_2a18_11eb_88ac_0242ac1c0002row5_col10{\n",
       "            background-color:  #3c4ec2;\n",
       "            color:  #f1f1f1;\n",
       "        }#T_718d381c_2a18_11eb_88ac_0242ac1c0002row6_col4{\n",
       "            background-color:  #c43032;\n",
       "            color:  #f1f1f1;\n",
       "        }#T_718d381c_2a18_11eb_88ac_0242ac1c0002row6_col7,#T_718d381c_2a18_11eb_88ac_0242ac1c0002row7_col2{\n",
       "            background-color:  #f4c5ad;\n",
       "            color:  #000000;\n",
       "        }#T_718d381c_2a18_11eb_88ac_0242ac1c0002row6_col9{\n",
       "            background-color:  #cb3e38;\n",
       "            color:  #f1f1f1;\n",
       "        }#T_718d381c_2a18_11eb_88ac_0242ac1c0002row6_col10{\n",
       "            background-color:  #506bda;\n",
       "            color:  #000000;\n",
       "        }#T_718d381c_2a18_11eb_88ac_0242ac1c0002row7_col0,#T_718d381c_2a18_11eb_88ac_0242ac1c0002row7_col3,#T_718d381c_2a18_11eb_88ac_0242ac1c0002row7_col5{\n",
       "            background-color:  #f6bea4;\n",
       "            color:  #000000;\n",
       "        }#T_718d381c_2a18_11eb_88ac_0242ac1c0002row7_col4{\n",
       "            background-color:  #f7b89c;\n",
       "            color:  #000000;\n",
       "        }#T_718d381c_2a18_11eb_88ac_0242ac1c0002row7_col9{\n",
       "            background-color:  #f7b093;\n",
       "            color:  #000000;\n",
       "        }#T_718d381c_2a18_11eb_88ac_0242ac1c0002row7_col10{\n",
       "            background-color:  #98b9ff;\n",
       "            color:  #000000;\n",
       "        }#T_718d381c_2a18_11eb_88ac_0242ac1c0002row8_col0,#T_718d381c_2a18_11eb_88ac_0242ac1c0002row8_col5{\n",
       "            background-color:  #cedaeb;\n",
       "            color:  #000000;\n",
       "        }#T_718d381c_2a18_11eb_88ac_0242ac1c0002row8_col1{\n",
       "            background-color:  #cbd8ee;\n",
       "            color:  #000000;\n",
       "        }#T_718d381c_2a18_11eb_88ac_0242ac1c0002row8_col2,#T_718d381c_2a18_11eb_88ac_0242ac1c0002row8_col3{\n",
       "            background-color:  #ccd9ed;\n",
       "            color:  #000000;\n",
       "        }#T_718d381c_2a18_11eb_88ac_0242ac1c0002row8_col4{\n",
       "            background-color:  #cad8ef;\n",
       "            color:  #000000;\n",
       "        }#T_718d381c_2a18_11eb_88ac_0242ac1c0002row8_col6{\n",
       "            background-color:  #bcd2f7;\n",
       "            color:  #000000;\n",
       "        }#T_718d381c_2a18_11eb_88ac_0242ac1c0002row8_col9{\n",
       "            background-color:  #b6cefa;\n",
       "            color:  #000000;\n",
       "        }#T_718d381c_2a18_11eb_88ac_0242ac1c0002row8_col10{\n",
       "            background-color:  #e9d5cb;\n",
       "            color:  #000000;\n",
       "        }#T_718d381c_2a18_11eb_88ac_0242ac1c0002row9_col6{\n",
       "            background-color:  #cc403a;\n",
       "            color:  #f1f1f1;\n",
       "        }#T_718d381c_2a18_11eb_88ac_0242ac1c0002row9_col7{\n",
       "            background-color:  #f7b396;\n",
       "            color:  #000000;\n",
       "        }#T_718d381c_2a18_11eb_88ac_0242ac1c0002row9_col8{\n",
       "            background-color:  #b1cbfc;\n",
       "            color:  #000000;\n",
       "        }#T_718d381c_2a18_11eb_88ac_0242ac1c0002row9_col10{\n",
       "            background-color:  #4055c8;\n",
       "            color:  #f1f1f1;\n",
       "        }#T_718d381c_2a18_11eb_88ac_0242ac1c0002row10_col7{\n",
       "            background-color:  #8caffe;\n",
       "            color:  #000000;\n",
       "        }#T_718d381c_2a18_11eb_88ac_0242ac1c0002row10_col8{\n",
       "            background-color:  #e4d9d2;\n",
       "            color:  #000000;\n",
       "        }</style><table id=\"T_718d381c_2a18_11eb_88ac_0242ac1c0002\" ><thead>    <tr>        <th class=\"blank level0\" ></th>        <th class=\"col_heading level0 col0\" >YEAR</th>        <th class=\"col_heading level0 col1\" >CO2 CONCENTRATION [PPM]</th>        <th class=\"col_heading level0 col2\" >CH4 CONCENTRATION [PPM]</th>        <th class=\"col_heading level0 col3\" >N2O CONCENTRATION [PPM]</th>        <th class=\"col_heading level0 col4\" >MEAN SEA LEVEL [CM]</th>        <th class=\"col_heading level0 col5\" >POPULATION</th>        <th class=\"col_heading level0 col6\" >TEMPERAUTRE [°C]</th>        <th class=\"col_heading level0 col7\" >STRATOSPHERIC OZONE CONC [Dobson Units (DU)]</th>        <th class=\"col_heading level0 col8\" >ANTARCTIC OZONE HOLE AREA[Million sq.km]</th>        <th class=\"col_heading level0 col9\" >TREE COVER LOSS [Million Hectares(MHa)]</th>        <th class=\"col_heading level0 col10\" >ANTARCTICA ICE MASS [GT]</th>    </tr></thead><tbody>\n",
       "                <tr>\n",
       "                        <th id=\"T_718d381c_2a18_11eb_88ac_0242ac1c0002level0_row0\" class=\"row_heading level0 row0\" >YEAR</th>\n",
       "                        <td id=\"T_718d381c_2a18_11eb_88ac_0242ac1c0002row0_col0\" class=\"data row0 col0\" >1.000000</td>\n",
       "                        <td id=\"T_718d381c_2a18_11eb_88ac_0242ac1c0002row0_col1\" class=\"data row0 col1\" >0.992550</td>\n",
       "                        <td id=\"T_718d381c_2a18_11eb_88ac_0242ac1c0002row0_col2\" class=\"data row0 col2\" >0.973076</td>\n",
       "                        <td id=\"T_718d381c_2a18_11eb_88ac_0242ac1c0002row0_col3\" class=\"data row0 col3\" >0.996080</td>\n",
       "                        <td id=\"T_718d381c_2a18_11eb_88ac_0242ac1c0002row0_col4\" class=\"data row0 col4\" >0.992214</td>\n",
       "                        <td id=\"T_718d381c_2a18_11eb_88ac_0242ac1c0002row0_col5\" class=\"data row0 col5\" >0.999934</td>\n",
       "                        <td id=\"T_718d381c_2a18_11eb_88ac_0242ac1c0002row0_col6\" class=\"data row0 col6\" >0.899252</td>\n",
       "                        <td id=\"T_718d381c_2a18_11eb_88ac_0242ac1c0002row0_col7\" class=\"data row0 col7\" >0.319346</td>\n",
       "                        <td id=\"T_718d381c_2a18_11eb_88ac_0242ac1c0002row0_col8\" class=\"data row0 col8\" >-0.063342</td>\n",
       "                        <td id=\"T_718d381c_2a18_11eb_88ac_0242ac1c0002row0_col9\" class=\"data row0 col9\" >0.949779</td>\n",
       "                        <td id=\"T_718d381c_2a18_11eb_88ac_0242ac1c0002row0_col10\" class=\"data row0 col10\" >-0.919582</td>\n",
       "            </tr>\n",
       "            <tr>\n",
       "                        <th id=\"T_718d381c_2a18_11eb_88ac_0242ac1c0002level0_row1\" class=\"row_heading level0 row1\" >CO2 CONCENTRATION [PPM]</th>\n",
       "                        <td id=\"T_718d381c_2a18_11eb_88ac_0242ac1c0002row1_col0\" class=\"data row1 col0\" >0.992550</td>\n",
       "                        <td id=\"T_718d381c_2a18_11eb_88ac_0242ac1c0002row1_col1\" class=\"data row1 col1\" >1.000000</td>\n",
       "                        <td id=\"T_718d381c_2a18_11eb_88ac_0242ac1c0002row1_col2\" class=\"data row1 col2\" >0.980902</td>\n",
       "                        <td id=\"T_718d381c_2a18_11eb_88ac_0242ac1c0002row1_col3\" class=\"data row1 col3\" >0.996758</td>\n",
       "                        <td id=\"T_718d381c_2a18_11eb_88ac_0242ac1c0002row1_col4\" class=\"data row1 col4\" >0.990850</td>\n",
       "                        <td id=\"T_718d381c_2a18_11eb_88ac_0242ac1c0002row1_col5\" class=\"data row1 col5\" >0.993371</td>\n",
       "                        <td id=\"T_718d381c_2a18_11eb_88ac_0242ac1c0002row1_col6\" class=\"data row1 col6\" >0.896575</td>\n",
       "                        <td id=\"T_718d381c_2a18_11eb_88ac_0242ac1c0002row1_col7\" class=\"data row1 col7\" >0.325452</td>\n",
       "                        <td id=\"T_718d381c_2a18_11eb_88ac_0242ac1c0002row1_col8\" class=\"data row1 col8\" >-0.088132</td>\n",
       "                        <td id=\"T_718d381c_2a18_11eb_88ac_0242ac1c0002row1_col9\" class=\"data row1 col9\" >0.948288</td>\n",
       "                        <td id=\"T_718d381c_2a18_11eb_88ac_0242ac1c0002row1_col10\" class=\"data row1 col10\" >-0.930895</td>\n",
       "            </tr>\n",
       "            <tr>\n",
       "                        <th id=\"T_718d381c_2a18_11eb_88ac_0242ac1c0002level0_row2\" class=\"row_heading level0 row2\" >CH4 CONCENTRATION [PPM]</th>\n",
       "                        <td id=\"T_718d381c_2a18_11eb_88ac_0242ac1c0002row2_col0\" class=\"data row2 col0\" >0.973076</td>\n",
       "                        <td id=\"T_718d381c_2a18_11eb_88ac_0242ac1c0002row2_col1\" class=\"data row2 col1\" >0.980902</td>\n",
       "                        <td id=\"T_718d381c_2a18_11eb_88ac_0242ac1c0002row2_col2\" class=\"data row2 col2\" >1.000000</td>\n",
       "                        <td id=\"T_718d381c_2a18_11eb_88ac_0242ac1c0002row2_col3\" class=\"data row2 col3\" >0.983706</td>\n",
       "                        <td id=\"T_718d381c_2a18_11eb_88ac_0242ac1c0002row2_col4\" class=\"data row2 col4\" >0.977187</td>\n",
       "                        <td id=\"T_718d381c_2a18_11eb_88ac_0242ac1c0002row2_col5\" class=\"data row2 col5\" >0.975305</td>\n",
       "                        <td id=\"T_718d381c_2a18_11eb_88ac_0242ac1c0002row2_col6\" class=\"data row2 col6\" >0.891460</td>\n",
       "                        <td id=\"T_718d381c_2a18_11eb_88ac_0242ac1c0002row2_col7\" class=\"data row2 col7\" >0.280518</td>\n",
       "                        <td id=\"T_718d381c_2a18_11eb_88ac_0242ac1c0002row2_col8\" class=\"data row2 col8\" >-0.069594</td>\n",
       "                        <td id=\"T_718d381c_2a18_11eb_88ac_0242ac1c0002row2_col9\" class=\"data row2 col9\" >0.930504</td>\n",
       "                        <td id=\"T_718d381c_2a18_11eb_88ac_0242ac1c0002row2_col10\" class=\"data row2 col10\" >-0.913810</td>\n",
       "            </tr>\n",
       "            <tr>\n",
       "                        <th id=\"T_718d381c_2a18_11eb_88ac_0242ac1c0002level0_row3\" class=\"row_heading level0 row3\" >N2O CONCENTRATION [PPM]</th>\n",
       "                        <td id=\"T_718d381c_2a18_11eb_88ac_0242ac1c0002row3_col0\" class=\"data row3 col0\" >0.996080</td>\n",
       "                        <td id=\"T_718d381c_2a18_11eb_88ac_0242ac1c0002row3_col1\" class=\"data row3 col1\" >0.996758</td>\n",
       "                        <td id=\"T_718d381c_2a18_11eb_88ac_0242ac1c0002row3_col2\" class=\"data row3 col2\" >0.983706</td>\n",
       "                        <td id=\"T_718d381c_2a18_11eb_88ac_0242ac1c0002row3_col3\" class=\"data row3 col3\" >1.000000</td>\n",
       "                        <td id=\"T_718d381c_2a18_11eb_88ac_0242ac1c0002row3_col4\" class=\"data row3 col4\" >0.993365</td>\n",
       "                        <td id=\"T_718d381c_2a18_11eb_88ac_0242ac1c0002row3_col5\" class=\"data row3 col5\" >0.996727</td>\n",
       "                        <td id=\"T_718d381c_2a18_11eb_88ac_0242ac1c0002row3_col6\" class=\"data row3 col6\" >0.907188</td>\n",
       "                        <td id=\"T_718d381c_2a18_11eb_88ac_0242ac1c0002row3_col7\" class=\"data row3 col7\" >0.322878</td>\n",
       "                        <td id=\"T_718d381c_2a18_11eb_88ac_0242ac1c0002row3_col8\" class=\"data row3 col8\" >-0.074945</td>\n",
       "                        <td id=\"T_718d381c_2a18_11eb_88ac_0242ac1c0002row3_col9\" class=\"data row3 col9\" >0.949364</td>\n",
       "                        <td id=\"T_718d381c_2a18_11eb_88ac_0242ac1c0002row3_col10\" class=\"data row3 col10\" >-0.920092</td>\n",
       "            </tr>\n",
       "            <tr>\n",
       "                        <th id=\"T_718d381c_2a18_11eb_88ac_0242ac1c0002level0_row4\" class=\"row_heading level0 row4\" >MEAN SEA LEVEL [CM]</th>\n",
       "                        <td id=\"T_718d381c_2a18_11eb_88ac_0242ac1c0002row4_col0\" class=\"data row4 col0\" >0.992214</td>\n",
       "                        <td id=\"T_718d381c_2a18_11eb_88ac_0242ac1c0002row4_col1\" class=\"data row4 col1\" >0.990850</td>\n",
       "                        <td id=\"T_718d381c_2a18_11eb_88ac_0242ac1c0002row4_col2\" class=\"data row4 col2\" >0.977187</td>\n",
       "                        <td id=\"T_718d381c_2a18_11eb_88ac_0242ac1c0002row4_col3\" class=\"data row4 col3\" >0.993365</td>\n",
       "                        <td id=\"T_718d381c_2a18_11eb_88ac_0242ac1c0002row4_col4\" class=\"data row4 col4\" >1.000000</td>\n",
       "                        <td id=\"T_718d381c_2a18_11eb_88ac_0242ac1c0002row4_col5\" class=\"data row4 col5\" >0.992873</td>\n",
       "                        <td id=\"T_718d381c_2a18_11eb_88ac_0242ac1c0002row4_col6\" class=\"data row4 col6\" >0.910540</td>\n",
       "                        <td id=\"T_718d381c_2a18_11eb_88ac_0242ac1c0002row4_col7\" class=\"data row4 col7\" >0.354901</td>\n",
       "                        <td id=\"T_718d381c_2a18_11eb_88ac_0242ac1c0002row4_col8\" class=\"data row4 col8\" >-0.100950</td>\n",
       "                        <td id=\"T_718d381c_2a18_11eb_88ac_0242ac1c0002row4_col9\" class=\"data row4 col9\" >0.954117</td>\n",
       "                        <td id=\"T_718d381c_2a18_11eb_88ac_0242ac1c0002row4_col10\" class=\"data row4 col10\" >-0.935859</td>\n",
       "            </tr>\n",
       "            <tr>\n",
       "                        <th id=\"T_718d381c_2a18_11eb_88ac_0242ac1c0002level0_row5\" class=\"row_heading level0 row5\" >POPULATION</th>\n",
       "                        <td id=\"T_718d381c_2a18_11eb_88ac_0242ac1c0002row5_col0\" class=\"data row5 col0\" >0.999934</td>\n",
       "                        <td id=\"T_718d381c_2a18_11eb_88ac_0242ac1c0002row5_col1\" class=\"data row5 col1\" >0.993371</td>\n",
       "                        <td id=\"T_718d381c_2a18_11eb_88ac_0242ac1c0002row5_col2\" class=\"data row5 col2\" >0.975305</td>\n",
       "                        <td id=\"T_718d381c_2a18_11eb_88ac_0242ac1c0002row5_col3\" class=\"data row5 col3\" >0.996727</td>\n",
       "                        <td id=\"T_718d381c_2a18_11eb_88ac_0242ac1c0002row5_col4\" class=\"data row5 col4\" >0.992873</td>\n",
       "                        <td id=\"T_718d381c_2a18_11eb_88ac_0242ac1c0002row5_col5\" class=\"data row5 col5\" >1.000000</td>\n",
       "                        <td id=\"T_718d381c_2a18_11eb_88ac_0242ac1c0002row5_col6\" class=\"data row5 col6\" >0.899407</td>\n",
       "                        <td id=\"T_718d381c_2a18_11eb_88ac_0242ac1c0002row5_col7\" class=\"data row5 col7\" >0.318369</td>\n",
       "                        <td id=\"T_718d381c_2a18_11eb_88ac_0242ac1c0002row5_col8\" class=\"data row5 col8\" >-0.063984</td>\n",
       "                        <td id=\"T_718d381c_2a18_11eb_88ac_0242ac1c0002row5_col9\" class=\"data row5 col9\" >0.949991</td>\n",
       "                        <td id=\"T_718d381c_2a18_11eb_88ac_0242ac1c0002row5_col10\" class=\"data row5 col10\" >-0.921305</td>\n",
       "            </tr>\n",
       "            <tr>\n",
       "                        <th id=\"T_718d381c_2a18_11eb_88ac_0242ac1c0002level0_row6\" class=\"row_heading level0 row6\" >TEMPERAUTRE [°C]</th>\n",
       "                        <td id=\"T_718d381c_2a18_11eb_88ac_0242ac1c0002row6_col0\" class=\"data row6 col0\" >0.899252</td>\n",
       "                        <td id=\"T_718d381c_2a18_11eb_88ac_0242ac1c0002row6_col1\" class=\"data row6 col1\" >0.896575</td>\n",
       "                        <td id=\"T_718d381c_2a18_11eb_88ac_0242ac1c0002row6_col2\" class=\"data row6 col2\" >0.891460</td>\n",
       "                        <td id=\"T_718d381c_2a18_11eb_88ac_0242ac1c0002row6_col3\" class=\"data row6 col3\" >0.907188</td>\n",
       "                        <td id=\"T_718d381c_2a18_11eb_88ac_0242ac1c0002row6_col4\" class=\"data row6 col4\" >0.910540</td>\n",
       "                        <td id=\"T_718d381c_2a18_11eb_88ac_0242ac1c0002row6_col5\" class=\"data row6 col5\" >0.899407</td>\n",
       "                        <td id=\"T_718d381c_2a18_11eb_88ac_0242ac1c0002row6_col6\" class=\"data row6 col6\" >1.000000</td>\n",
       "                        <td id=\"T_718d381c_2a18_11eb_88ac_0242ac1c0002row6_col7\" class=\"data row6 col7\" >0.303969</td>\n",
       "                        <td id=\"T_718d381c_2a18_11eb_88ac_0242ac1c0002row6_col8\" class=\"data row6 col8\" >-0.101759</td>\n",
       "                        <td id=\"T_718d381c_2a18_11eb_88ac_0242ac1c0002row6_col9\" class=\"data row6 col9\" >0.880386</td>\n",
       "                        <td id=\"T_718d381c_2a18_11eb_88ac_0242ac1c0002row6_col10\" class=\"data row6 col10\" >-0.798626</td>\n",
       "            </tr>\n",
       "            <tr>\n",
       "                        <th id=\"T_718d381c_2a18_11eb_88ac_0242ac1c0002level0_row7\" class=\"row_heading level0 row7\" >STRATOSPHERIC OZONE CONC [Dobson Units (DU)]</th>\n",
       "                        <td id=\"T_718d381c_2a18_11eb_88ac_0242ac1c0002row7_col0\" class=\"data row7 col0\" >0.319346</td>\n",
       "                        <td id=\"T_718d381c_2a18_11eb_88ac_0242ac1c0002row7_col1\" class=\"data row7 col1\" >0.325452</td>\n",
       "                        <td id=\"T_718d381c_2a18_11eb_88ac_0242ac1c0002row7_col2\" class=\"data row7 col2\" >0.280518</td>\n",
       "                        <td id=\"T_718d381c_2a18_11eb_88ac_0242ac1c0002row7_col3\" class=\"data row7 col3\" >0.322878</td>\n",
       "                        <td id=\"T_718d381c_2a18_11eb_88ac_0242ac1c0002row7_col4\" class=\"data row7 col4\" >0.354901</td>\n",
       "                        <td id=\"T_718d381c_2a18_11eb_88ac_0242ac1c0002row7_col5\" class=\"data row7 col5\" >0.318369</td>\n",
       "                        <td id=\"T_718d381c_2a18_11eb_88ac_0242ac1c0002row7_col6\" class=\"data row7 col6\" >0.303969</td>\n",
       "                        <td id=\"T_718d381c_2a18_11eb_88ac_0242ac1c0002row7_col7\" class=\"data row7 col7\" >1.000000</td>\n",
       "                        <td id=\"T_718d381c_2a18_11eb_88ac_0242ac1c0002row7_col8\" class=\"data row7 col8\" >-0.847851</td>\n",
       "                        <td id=\"T_718d381c_2a18_11eb_88ac_0242ac1c0002row7_col9\" class=\"data row7 col9\" >0.414027</td>\n",
       "                        <td id=\"T_718d381c_2a18_11eb_88ac_0242ac1c0002row7_col10\" class=\"data row7 col10\" >-0.391285</td>\n",
       "            </tr>\n",
       "            <tr>\n",
       "                        <th id=\"T_718d381c_2a18_11eb_88ac_0242ac1c0002level0_row8\" class=\"row_heading level0 row8\" >ANTARCTIC OZONE HOLE AREA[Million sq.km]</th>\n",
       "                        <td id=\"T_718d381c_2a18_11eb_88ac_0242ac1c0002row8_col0\" class=\"data row8 col0\" >-0.063342</td>\n",
       "                        <td id=\"T_718d381c_2a18_11eb_88ac_0242ac1c0002row8_col1\" class=\"data row8 col1\" >-0.088132</td>\n",
       "                        <td id=\"T_718d381c_2a18_11eb_88ac_0242ac1c0002row8_col2\" class=\"data row8 col2\" >-0.069594</td>\n",
       "                        <td id=\"T_718d381c_2a18_11eb_88ac_0242ac1c0002row8_col3\" class=\"data row8 col3\" >-0.074945</td>\n",
       "                        <td id=\"T_718d381c_2a18_11eb_88ac_0242ac1c0002row8_col4\" class=\"data row8 col4\" >-0.100950</td>\n",
       "                        <td id=\"T_718d381c_2a18_11eb_88ac_0242ac1c0002row8_col5\" class=\"data row8 col5\" >-0.063984</td>\n",
       "                        <td id=\"T_718d381c_2a18_11eb_88ac_0242ac1c0002row8_col6\" class=\"data row8 col6\" >-0.101759</td>\n",
       "                        <td id=\"T_718d381c_2a18_11eb_88ac_0242ac1c0002row8_col7\" class=\"data row8 col7\" >-0.847851</td>\n",
       "                        <td id=\"T_718d381c_2a18_11eb_88ac_0242ac1c0002row8_col8\" class=\"data row8 col8\" >1.000000</td>\n",
       "                        <td id=\"T_718d381c_2a18_11eb_88ac_0242ac1c0002row8_col9\" class=\"data row8 col9\" >-0.196738</td>\n",
       "                        <td id=\"T_718d381c_2a18_11eb_88ac_0242ac1c0002row8_col10\" class=\"data row8 col10\" >0.130236</td>\n",
       "            </tr>\n",
       "            <tr>\n",
       "                        <th id=\"T_718d381c_2a18_11eb_88ac_0242ac1c0002level0_row9\" class=\"row_heading level0 row9\" >TREE COVER LOSS [Million Hectares(MHa)]</th>\n",
       "                        <td id=\"T_718d381c_2a18_11eb_88ac_0242ac1c0002row9_col0\" class=\"data row9 col0\" >0.949779</td>\n",
       "                        <td id=\"T_718d381c_2a18_11eb_88ac_0242ac1c0002row9_col1\" class=\"data row9 col1\" >0.948288</td>\n",
       "                        <td id=\"T_718d381c_2a18_11eb_88ac_0242ac1c0002row9_col2\" class=\"data row9 col2\" >0.930504</td>\n",
       "                        <td id=\"T_718d381c_2a18_11eb_88ac_0242ac1c0002row9_col3\" class=\"data row9 col3\" >0.949364</td>\n",
       "                        <td id=\"T_718d381c_2a18_11eb_88ac_0242ac1c0002row9_col4\" class=\"data row9 col4\" >0.954117</td>\n",
       "                        <td id=\"T_718d381c_2a18_11eb_88ac_0242ac1c0002row9_col5\" class=\"data row9 col5\" >0.949991</td>\n",
       "                        <td id=\"T_718d381c_2a18_11eb_88ac_0242ac1c0002row9_col6\" class=\"data row9 col6\" >0.880386</td>\n",
       "                        <td id=\"T_718d381c_2a18_11eb_88ac_0242ac1c0002row9_col7\" class=\"data row9 col7\" >0.414027</td>\n",
       "                        <td id=\"T_718d381c_2a18_11eb_88ac_0242ac1c0002row9_col8\" class=\"data row9 col8\" >-0.196738</td>\n",
       "                        <td id=\"T_718d381c_2a18_11eb_88ac_0242ac1c0002row9_col9\" class=\"data row9 col9\" >1.000000</td>\n",
       "                        <td id=\"T_718d381c_2a18_11eb_88ac_0242ac1c0002row9_col10\" class=\"data row9 col10\" >-0.893954</td>\n",
       "            </tr>\n",
       "            <tr>\n",
       "                        <th id=\"T_718d381c_2a18_11eb_88ac_0242ac1c0002level0_row10\" class=\"row_heading level0 row10\" >ANTARCTICA ICE MASS [GT]</th>\n",
       "                        <td id=\"T_718d381c_2a18_11eb_88ac_0242ac1c0002row10_col0\" class=\"data row10 col0\" >-0.919582</td>\n",
       "                        <td id=\"T_718d381c_2a18_11eb_88ac_0242ac1c0002row10_col1\" class=\"data row10 col1\" >-0.930895</td>\n",
       "                        <td id=\"T_718d381c_2a18_11eb_88ac_0242ac1c0002row10_col2\" class=\"data row10 col2\" >-0.913810</td>\n",
       "                        <td id=\"T_718d381c_2a18_11eb_88ac_0242ac1c0002row10_col3\" class=\"data row10 col3\" >-0.920092</td>\n",
       "                        <td id=\"T_718d381c_2a18_11eb_88ac_0242ac1c0002row10_col4\" class=\"data row10 col4\" >-0.935859</td>\n",
       "                        <td id=\"T_718d381c_2a18_11eb_88ac_0242ac1c0002row10_col5\" class=\"data row10 col5\" >-0.921305</td>\n",
       "                        <td id=\"T_718d381c_2a18_11eb_88ac_0242ac1c0002row10_col6\" class=\"data row10 col6\" >-0.798626</td>\n",
       "                        <td id=\"T_718d381c_2a18_11eb_88ac_0242ac1c0002row10_col7\" class=\"data row10 col7\" >-0.391285</td>\n",
       "                        <td id=\"T_718d381c_2a18_11eb_88ac_0242ac1c0002row10_col8\" class=\"data row10 col8\" >0.130236</td>\n",
       "                        <td id=\"T_718d381c_2a18_11eb_88ac_0242ac1c0002row10_col9\" class=\"data row10 col9\" >-0.893954</td>\n",
       "                        <td id=\"T_718d381c_2a18_11eb_88ac_0242ac1c0002row10_col10\" class=\"data row10 col10\" >1.000000</td>\n",
       "            </tr>\n",
       "    </tbody></table>"
      ],
      "text/plain": [
       "<pandas.io.formats.style.Styler at 0x7f9ed874b748>"
      ]
     },
     "execution_count": 12,
     "metadata": {
      "tags": []
     },
     "output_type": "execute_result"
    }
   ],
   "source": [
    "corr = df.corr()\n",
    "corr.style.background_gradient(cmap='coolwarm')"
   ]
  },
  {
   "cell_type": "markdown",
   "metadata": {
    "id": "O28DtsEppjL2"
   },
   "source": [
    "We now have a list of strongly correlated values but this list is incomplete as we know that correlation is affected by outliers. So we could proceed as follow:\n",
    "\n",
    "Plot the numerical features and see which ones have very few or explainable outliers\n",
    "Remove the outliers from these features and see which one can have a good correlation without their outliers\n",
    "Btw, correlation by itself does not always explain the relationship between data so ploting them could even lead us to new insights and in the same manner, check that our correlated values have a linear relationship to the antarctic ice mass.\n",
    "\n",
    "For example, relationships such as curvilinear relationship cannot be guessed just by looking at the correlation value so lets take the features we excluded from our correlation table and plot them to see if they show some kind of pattern."
   ]
  },
  {
   "cell_type": "code",
   "execution_count": 105,
   "metadata": {
    "colab": {
     "base_uri": "https://localhost:8080/",
     "height": 178
    },
    "id": "sH7w11UEwQAO",
    "outputId": "ec6c98a7-3810-41c2-eaca-826a680d1ea7"
   },
   "outputs": [
    {
     "name": "stderr",
     "output_type": "stream",
     "text": [
      "/usr/local/lib/python3.6/dist-packages/seaborn/axisgrid.py:64: UserWarning: Tight layout not applied. tight_layout cannot make axes width small enough to accommodate all axes decorations\n",
      "  self.fig.tight_layout(*args, **kwargs)\n"
     ]
    },
    {
     "data": {
      "text/plain": [
       "<seaborn.axisgrid.PairGrid at 0x7f7550b9aa20>"
      ]
     },
     "execution_count": 105,
     "metadata": {
      "tags": []
     },
     "output_type": "execute_result"
    },
    {
     "data": {
      "image/png": "[encoded data removed]",
      "text/plain": [
       "<Figure size 1980x180 with 12 Axes>"
      ]
     },
     "metadata": {
      "needs_background": "light",
      "tags": []
     },
     "output_type": "display_data"
    }
   ],
   "source": [
    "'''sns.pairplot(df, y_vars=\"ANTARCTICA ICE MASS [GT]\", x_vars=df.columns.values)'''"
   ]
  },
  {
   "cell_type": "code",
   "execution_count": 49,
   "metadata": {
    "colab": {
     "base_uri": "https://localhost:8080/",
     "height": 296
    },
    "id": "ktNsw0rDlEJj",
    "outputId": "e83e214f-5481-480c-f66a-7ca5093d4ed2"
   },
   "outputs": [
    {
     "data": {
      "text/plain": [
       "<matplotlib.axes._subplots.AxesSubplot at 0x7f9ed6531d30>"
      ]
     },
     "execution_count": 49,
     "metadata": {
      "tags": []
     },
     "output_type": "execute_result"
    },
    {
     "data": {
      "image/png": "[encoded data removed]",
      "text/plain": [
       "<Figure size 432x288 with 1 Axes>"
      ]
     },
     "metadata": {
      "needs_background": "light",
      "tags": []
     },
     "output_type": "display_data"
    }
   ],
   "source": [
    "sns.boxplot(x=df['CO2 CONCENTRATION [PPM]'])"
   ]
  },
  {
   "cell_type": "code",
   "execution_count": 51,
   "metadata": {
    "colab": {
     "base_uri": "https://localhost:8080/",
     "height": 296
    },
    "id": "AXEVDyfjwTA5",
    "outputId": "d1bb0984-eb72-4585-e613-228333a51ae8"
   },
   "outputs": [
    {
     "data": {
      "text/plain": [
       "<matplotlib.axes._subplots.AxesSubplot at 0x7f9ed64507b8>"
      ]
     },
     "execution_count": 51,
     "metadata": {
      "tags": []
     },
     "output_type": "execute_result"
    },
    {
     "data": {
      "image/png": "[encoded data removed]",
      "text/plain": [
       "<Figure size 432x288 with 1 Axes>"
      ]
     },
     "metadata": {
      "needs_background": "light",
      "tags": []
     },
     "output_type": "display_data"
    }
   ],
   "source": [
    "sns.boxplot(x=df['CH4 CONCENTRATION [PPM]'])"
   ]
  },
  {
   "cell_type": "code",
   "execution_count": 53,
   "metadata": {
    "colab": {
     "base_uri": "https://localhost:8080/",
     "height": 296
    },
    "id": "e6_4d_TDwU-_",
    "outputId": "3d032af9-2809-4c7e-d60a-bdaf6117dcbd"
   },
   "outputs": [
    {
     "data": {
      "text/plain": [
       "<matplotlib.axes._subplots.AxesSubplot at 0x7f9ed63ca978>"
      ]
     },
     "execution_count": 53,
     "metadata": {
      "tags": []
     },
     "output_type": "execute_result"
    },
    {
     "data": {
      "image/png": "[encoded data removed]",
      "text/plain": [
       "<Figure size 432x288 with 1 Axes>"
      ]
     },
     "metadata": {
      "needs_background": "light",
      "tags": []
     },
     "output_type": "display_data"
    }
   ],
   "source": [
    "sns.boxplot(x=df['N2O CONCENTRATION [PPM]'])"
   ]
  },
  {
   "cell_type": "code",
   "execution_count": 54,
   "metadata": {
    "colab": {
     "base_uri": "https://localhost:8080/",
     "height": 296
    },
    "id": "VSUG_8sqwV2D",
    "outputId": "9727e81b-a254-40f9-b0a0-ebcb5168ab3c"
   },
   "outputs": [
    {
     "data": {
      "text/plain": [
       "<matplotlib.axes._subplots.AxesSubplot at 0x7f9ed6608cf8>"
      ]
     },
     "execution_count": 54,
     "metadata": {
      "tags": []
     },
     "output_type": "execute_result"
    },
    {
     "data": {
      "image/png": "[encoded data removed]",
      "text/plain": [
       "<Figure size 432x288 with 1 Axes>"
      ]
     },
     "metadata": {
      "needs_background": "light",
      "tags": []
     },
     "output_type": "display_data"
    }
   ],
   "source": [
    "sns.boxplot(x=df['MEAN SEA LEVEL [CM]'])"
   ]
  },
  {
   "cell_type": "code",
   "execution_count": 55,
   "metadata": {
    "colab": {
     "base_uri": "https://localhost:8080/",
     "height": 296
    },
    "id": "yV_6BiqAwWuG",
    "outputId": "3ecb25a5-b841-4609-9b7c-f6e4e5c1a4d9"
   },
   "outputs": [
    {
     "data": {
      "text/plain": [
       "<matplotlib.axes._subplots.AxesSubplot at 0x7f9ed92425f8>"
      ]
     },
     "execution_count": 55,
     "metadata": {
      "tags": []
     },
     "output_type": "execute_result"
    },
    {
     "data": {
      "image/png": "[encoded data removed]",
      "text/plain": [
       "<Figure size 432x288 with 1 Axes>"
      ]
     },
     "metadata": {
      "needs_background": "light",
      "tags": []
     },
     "output_type": "display_data"
    }
   ],
   "source": [
    "sns.boxplot(x=df['POPULATION'])"
   ]
  },
  {
   "cell_type": "code",
   "execution_count": 56,
   "metadata": {
    "colab": {
     "base_uri": "https://localhost:8080/",
     "height": 296
    },
    "id": "-l4nA4aXwXnL",
    "outputId": "1938bbc3-e904-4ae2-fb17-1066d0794548"
   },
   "outputs": [
    {
     "data": {
      "text/plain": [
       "<matplotlib.axes._subplots.AxesSubplot at 0x7f9ed87af0f0>"
      ]
     },
     "execution_count": 56,
     "metadata": {
      "tags": []
     },
     "output_type": "execute_result"
    },
    {
     "data": {
      "image/png": "[encoded data removed]",
      "text/plain": [
       "<Figure size 432x288 with 1 Axes>"
      ]
     },
     "metadata": {
      "needs_background": "light",
      "tags": []
     },
     "output_type": "display_data"
    }
   ],
   "source": [
    "sns.boxplot(x=df['TEMPERAUTRE [°C]'])"
   ]
  },
  {
   "cell_type": "code",
   "execution_count": 57,
   "metadata": {
    "colab": {
     "base_uri": "https://localhost:8080/",
     "height": 296
    },
    "id": "VK55viZmwYO7",
    "outputId": "1aaefaf8-1910-451e-a697-832cc761620b"
   },
   "outputs": [
    {
     "data": {
      "text/plain": [
       "<matplotlib.axes._subplots.AxesSubplot at 0x7f9ed904d7b8>"
      ]
     },
     "execution_count": 57,
     "metadata": {
      "tags": []
     },
     "output_type": "execute_result"
    },
    {
     "data": {
      "image/png": "[encoded data removed]",
      "text/plain": [
       "<Figure size 432x288 with 1 Axes>"
      ]
     },
     "metadata": {
      "needs_background": "light",
      "tags": []
     },
     "output_type": "display_data"
    }
   ],
   "source": [
    "sns.boxplot(x=df['STRATOSPHERIC OZONE CONC [Dobson Units (DU)]'])"
   ]
  },
  {
   "cell_type": "code",
   "execution_count": 58,
   "metadata": {
    "colab": {
     "base_uri": "https://localhost:8080/",
     "height": 296
    },
    "id": "m1_gkquQwY17",
    "outputId": "90365728-6aab-42ce-d999-ebda9d02931d"
   },
   "outputs": [
    {
     "data": {
      "text/plain": [
       "<matplotlib.axes._subplots.AxesSubplot at 0x7f9ed8fe85f8>"
      ]
     },
     "execution_count": 58,
     "metadata": {
      "tags": []
     },
     "output_type": "execute_result"
    },
    {
     "data": {
      "image/png": "[encoded data removed]",
      "text/plain": [
       "<Figure size 432x288 with 1 Axes>"
      ]
     },
     "metadata": {
      "needs_background": "light",
      "tags": []
     },
     "output_type": "display_data"
    }
   ],
   "source": [
    "sns.boxplot(x=df['ANTARCTIC OZONE HOLE AREA[Million sq.km]'])"
   ]
  },
  {
   "cell_type": "code",
   "execution_count": 59,
   "metadata": {
    "colab": {
     "base_uri": "https://localhost:8080/",
     "height": 296
    },
    "id": "q7OFJTnQwZg_",
    "outputId": "c3829de1-4c31-4c29-e3c0-cabf1fb83787"
   },
   "outputs": [
    {
     "data": {
      "text/plain": [
       "<matplotlib.axes._subplots.AxesSubplot at 0x7f9ed92367f0>"
      ]
     },
     "execution_count": 59,
     "metadata": {
      "tags": []
     },
     "output_type": "execute_result"
    },
    {
     "data": {
      "image/png": "[encoded data removed]",
      "text/plain": [
       "<Figure size 432x288 with 1 Axes>"
      ]
     },
     "metadata": {
      "needs_background": "light",
      "tags": []
     },
     "output_type": "display_data"
    }
   ],
   "source": [
    "sns.boxplot(x=df['TREE COVER LOSS [Million Hectares(MHa)]'])"
   ]
  },
  {
   "cell_type": "code",
   "execution_count": 60,
   "metadata": {
    "colab": {
     "base_uri": "https://localhost:8080/",
     "height": 296
    },
    "id": "gwAavhmFwaI7",
    "outputId": "e9df9e31-788e-40de-fcc3-2d1170836ec6"
   },
   "outputs": [
    {
     "data": {
      "text/plain": [
       "<matplotlib.axes._subplots.AxesSubplot at 0x7f9ed90818d0>"
      ]
     },
     "execution_count": 60,
     "metadata": {
      "tags": []
     },
     "output_type": "execute_result"
    },
    {
     "data": {
      "image/png": "[encoded data removed]",
      "text/plain": [
       "<Figure size 432x288 with 1 Axes>"
      ]
     },
     "metadata": {
      "needs_background": "light",
      "tags": []
     },
     "output_type": "display_data"
    }
   ],
   "source": [
    "sns.boxplot(x=df['ANTARCTICA ICE MASS [GT]'])"
   ]
  },
  {
   "cell_type": "markdown",
   "metadata": {
    "id": "MgDiUnsb0HbZ"
   },
   "source": [
    "The interquartile range (IQR) is a measure of statistical dispersion and is calculated as the difference between the 75th and 25th percentiles. It is represented by the formula IQR = Q3 − Q1. The lines of code below calculate and print the interquartile range for each of the variables in the dataset."
   ]
  },
  {
   "cell_type": "code",
   "execution_count": 62,
   "metadata": {
    "colab": {
     "base_uri": "https://localhost:8080/"
    },
    "id": "KHsbcWp4z5BB",
    "outputId": "d0c1aa59-9a4b-4017-85bc-33a9a8565083"
   },
   "outputs": [
    {
     "name": "stdout",
     "output_type": "stream",
     "text": [
      "YEAR                                            1.500000e+01\n",
      "CO2 CONCENTRATION [PPM]                         3.064500e+01\n",
      "CH4 CONCENTRATION [PPM]                         5.525000e+01\n",
      "N2O CONCENTRATION [PPM]                         1.212500e+01\n",
      "MEAN SEA LEVEL [CM]                             4.540000e+00\n",
      "POPULATION                                      1.223285e+09\n",
      "TEMPERAUTRE [°C]                                2.800000e-01\n",
      "STRATOSPHERIC OZONE CONC [Dobson Units (DU)]    1.770000e+01\n",
      "ANTARCTIC OZONE HOLE AREA[Million sq.km]        3.850000e+00\n",
      "TREE COVER LOSS [Million Hectares(MHa)]         8.224446e+06\n",
      "ANTARCTICA ICE MASS [GT]                        1.277275e+03\n",
      "dtype: float64\n"
     ]
    }
   ],
   "source": [
    "Q1 = df.quantile(0.25)\n",
    "Q3 = df.quantile(0.75)\n",
    "IQR = Q3 - Q1\n",
    "print(IQR)"
   ]
  },
  {
   "cell_type": "markdown",
   "metadata": {
    "id": "jaHKGdrb0JRl"
   },
   "source": [
    "The above output prints the IQR scores, which can be used to detect outliers. The code below generates an output with the 'True' and 'False' values. Points where the values are 'True' represent the presence of the outlier."
   ]
  },
  {
   "cell_type": "code",
   "execution_count": 66,
   "metadata": {
    "colab": {
     "base_uri": "https://localhost:8080/",
     "height": 1000
    },
    "id": "cpQDHyiC0Cx2",
    "outputId": "e04ed1d1-bcb8-48b2-e9a4-9a6a7a1a03ea"
   },
   "outputs": [
    {
     "name": "stdout",
     "output_type": "stream",
     "text": [
      "     YEAR  ...  ANTARCTICA ICE MASS [GT]\n",
      "0   False  ...                     False\n",
      "1   False  ...                     False\n",
      "2   False  ...                     False\n",
      "3   False  ...                     False\n",
      "4   False  ...                     False\n",
      "5   False  ...                     False\n",
      "6   False  ...                     False\n",
      "7   False  ...                     False\n",
      "8   False  ...                     False\n",
      "9   False  ...                     False\n",
      "10  False  ...                     False\n",
      "11  False  ...                     False\n",
      "12  False  ...                     False\n",
      "13  False  ...                     False\n",
      "14  False  ...                     False\n",
      "15  False  ...                     False\n",
      "16  False  ...                     False\n",
      "17  False  ...                     False\n",
      "18  False  ...                     False\n",
      "19  False  ...                     False\n",
      "20  False  ...                     False\n",
      "21  False  ...                     False\n",
      "22  False  ...                     False\n",
      "23  False  ...                     False\n",
      "24  False  ...                     False\n",
      "25  False  ...                     False\n",
      "26  False  ...                     False\n",
      "27  False  ...                     False\n",
      "28  False  ...                     False\n",
      "29  False  ...                     False\n",
      "30  False  ...                     False\n",
      "\n",
      "[31 rows x 11 columns]\n"
     ]
    },
    {
     "ename": "TypeError",
     "evalue": "ignored",
     "output_type": "error",
     "traceback": [
      "\u001b[0;31m---------------------------------------------------------------------------\u001b[0m",
      "\u001b[0;31mTypeError\u001b[0m                                 Traceback (most recent call last)",
      "\u001b[0;32m/usr/local/lib/python3.6/dist-packages/pandas/core/ops/array_ops.py\u001b[0m in \u001b[0;36mna_logical_op\u001b[0;34m(x, y, op)\u001b[0m\n\u001b[1;32m    265\u001b[0m         \u001b[0;31m#  (xint or xbool) and (yint or bool)\u001b[0m\u001b[0;34m\u001b[0m\u001b[0;34m\u001b[0m\u001b[0;34m\u001b[0m\u001b[0m\n\u001b[0;32m--> 266\u001b[0;31m         \u001b[0mresult\u001b[0m \u001b[0;34m=\u001b[0m \u001b[0mop\u001b[0m\u001b[0;34m(\u001b[0m\u001b[0mx\u001b[0m\u001b[0;34m,\u001b[0m \u001b[0my\u001b[0m\u001b[0;34m)\u001b[0m\u001b[0;34m\u001b[0m\u001b[0;34m\u001b[0m\u001b[0m\n\u001b[0m\u001b[1;32m    267\u001b[0m     \u001b[0;32mexcept\u001b[0m \u001b[0mTypeError\u001b[0m\u001b[0;34m:\u001b[0m\u001b[0;34m\u001b[0m\u001b[0;34m\u001b[0m\u001b[0m\n",
      "\u001b[0;32m/usr/local/lib/python3.6/dist-packages/pandas/core/ops/roperator.py\u001b[0m in \u001b[0;36mror_\u001b[0;34m(left, right)\u001b[0m\n\u001b[1;32m     55\u001b[0m \u001b[0;32mdef\u001b[0m \u001b[0mror_\u001b[0m\u001b[0;34m(\u001b[0m\u001b[0mleft\u001b[0m\u001b[0;34m,\u001b[0m \u001b[0mright\u001b[0m\u001b[0;34m)\u001b[0m\u001b[0;34m:\u001b[0m\u001b[0;34m\u001b[0m\u001b[0;34m\u001b[0m\u001b[0m\n\u001b[0;32m---> 56\u001b[0;31m     \u001b[0;32mreturn\u001b[0m \u001b[0moperator\u001b[0m\u001b[0;34m.\u001b[0m\u001b[0mor_\u001b[0m\u001b[0;34m(\u001b[0m\u001b[0mright\u001b[0m\u001b[0;34m,\u001b[0m \u001b[0mleft\u001b[0m\u001b[0;34m)\u001b[0m\u001b[0;34m\u001b[0m\u001b[0;34m\u001b[0m\u001b[0m\n\u001b[0m\u001b[1;32m     57\u001b[0m \u001b[0;34m\u001b[0m\u001b[0m\n",
      "\u001b[0;31mTypeError\u001b[0m: unsupported operand type(s) for |: 'NoneType' and 'bool'",
      "\nDuring handling of the above exception, another exception occurred:\n",
      "\u001b[0;31mValueError\u001b[0m                                Traceback (most recent call last)",
      "\u001b[0;32m/usr/local/lib/python3.6/dist-packages/pandas/core/ops/array_ops.py\u001b[0m in \u001b[0;36mna_logical_op\u001b[0;34m(x, y, op)\u001b[0m\n\u001b[1;32m    279\u001b[0m             \u001b[0;32mtry\u001b[0m\u001b[0;34m:\u001b[0m\u001b[0;34m\u001b[0m\u001b[0;34m\u001b[0m\u001b[0m\n\u001b[0;32m--> 280\u001b[0;31m                 \u001b[0mresult\u001b[0m \u001b[0;34m=\u001b[0m \u001b[0mlibops\u001b[0m\u001b[0;34m.\u001b[0m\u001b[0mscalar_binop\u001b[0m\u001b[0;34m(\u001b[0m\u001b[0mx\u001b[0m\u001b[0;34m,\u001b[0m \u001b[0my\u001b[0m\u001b[0;34m,\u001b[0m \u001b[0mop\u001b[0m\u001b[0;34m)\u001b[0m\u001b[0;34m\u001b[0m\u001b[0;34m\u001b[0m\u001b[0m\n\u001b[0m\u001b[1;32m    281\u001b[0m             except (\n",
      "\u001b[0;32mpandas/_libs/ops.pyx\u001b[0m in \u001b[0;36mpandas._libs.ops.scalar_binop\u001b[0;34m()\u001b[0m\n",
      "\u001b[0;31mValueError\u001b[0m: Buffer has wrong number of dimensions (expected 1, got 2)",
      "\nThe above exception was the direct cause of the following exception:\n",
      "\u001b[0;31mTypeError\u001b[0m                                 Traceback (most recent call last)",
      "\u001b[0;32m<ipython-input-66-a02a94f243ef>\u001b[0m in \u001b[0;36m<module>\u001b[0;34m()\u001b[0m\n\u001b[0;32m----> 1\u001b[0;31m \u001b[0mprint\u001b[0m\u001b[0;34m(\u001b[0m\u001b[0mdf\u001b[0m \u001b[0;34m<\u001b[0m \u001b[0;34m(\u001b[0m\u001b[0mQ1\u001b[0m \u001b[0;34m-\u001b[0m \u001b[0;36m1.5\u001b[0m \u001b[0;34m*\u001b[0m \u001b[0mIQR\u001b[0m\u001b[0;34m)\u001b[0m\u001b[0;34m)\u001b[0m \u001b[0;34m|\u001b[0m\u001b[0;34m(\u001b[0m\u001b[0mdf\u001b[0m \u001b[0;34m>\u001b[0m \u001b[0;34m(\u001b[0m\u001b[0mQ3\u001b[0m \u001b[0;34m+\u001b[0m \u001b[0;36m1.5\u001b[0m \u001b[0;34m*\u001b[0m \u001b[0mIQR\u001b[0m\u001b[0;34m)\u001b[0m\u001b[0;34m)\u001b[0m\u001b[0;34m\u001b[0m\u001b[0;34m\u001b[0m\u001b[0m\n\u001b[0m",
      "\u001b[0;32m/usr/local/lib/python3.6/dist-packages/pandas/core/ops/__init__.py\u001b[0m in \u001b[0;36mf\u001b[0;34m(self, other, axis, level, fill_value)\u001b[0m\n\u001b[1;32m    658\u001b[0m                 \u001b[0mself\u001b[0m \u001b[0;34m=\u001b[0m \u001b[0mself\u001b[0m\u001b[0;34m.\u001b[0m\u001b[0mfillna\u001b[0m\u001b[0;34m(\u001b[0m\u001b[0mfill_value\u001b[0m\u001b[0;34m)\u001b[0m\u001b[0;34m\u001b[0m\u001b[0;34m\u001b[0m\u001b[0m\n\u001b[1;32m    659\u001b[0m \u001b[0;34m\u001b[0m\u001b[0m\n\u001b[0;32m--> 660\u001b[0;31m             \u001b[0mnew_data\u001b[0m \u001b[0;34m=\u001b[0m \u001b[0mdispatch_to_series\u001b[0m\u001b[0;34m(\u001b[0m\u001b[0mself\u001b[0m\u001b[0;34m,\u001b[0m \u001b[0mother\u001b[0m\u001b[0;34m,\u001b[0m \u001b[0mop\u001b[0m\u001b[0;34m)\u001b[0m\u001b[0;34m\u001b[0m\u001b[0;34m\u001b[0m\u001b[0m\n\u001b[0m\u001b[1;32m    661\u001b[0m \u001b[0;34m\u001b[0m\u001b[0m\n\u001b[1;32m    662\u001b[0m         \u001b[0;32mreturn\u001b[0m \u001b[0mself\u001b[0m\u001b[0;34m.\u001b[0m\u001b[0m_construct_result\u001b[0m\u001b[0;34m(\u001b[0m\u001b[0mnew_data\u001b[0m\u001b[0;34m)\u001b[0m\u001b[0;34m\u001b[0m\u001b[0;34m\u001b[0m\u001b[0m\n",
      "\u001b[0;32m/usr/local/lib/python3.6/dist-packages/pandas/core/ops/__init__.py\u001b[0m in \u001b[0;36mdispatch_to_series\u001b[0;34m(left, right, func, axis)\u001b[0m\n\u001b[1;32m    263\u001b[0m     \u001b[0;32mif\u001b[0m \u001b[0;32mnot\u001b[0m \u001b[0mis_list_like\u001b[0m\u001b[0;34m(\u001b[0m\u001b[0mright\u001b[0m\u001b[0;34m)\u001b[0m\u001b[0;34m:\u001b[0m\u001b[0;34m\u001b[0m\u001b[0;34m\u001b[0m\u001b[0m\n\u001b[1;32m    264\u001b[0m         \u001b[0;31m# i.e. scalar, faster than checking np.ndim(right) == 0\u001b[0m\u001b[0;34m\u001b[0m\u001b[0;34m\u001b[0m\u001b[0;34m\u001b[0m\u001b[0m\n\u001b[0;32m--> 265\u001b[0;31m         \u001b[0mbm\u001b[0m \u001b[0;34m=\u001b[0m \u001b[0mleft\u001b[0m\u001b[0;34m.\u001b[0m\u001b[0m_mgr\u001b[0m\u001b[0;34m.\u001b[0m\u001b[0mapply\u001b[0m\u001b[0;34m(\u001b[0m\u001b[0marray_op\u001b[0m\u001b[0;34m,\u001b[0m \u001b[0mright\u001b[0m\u001b[0;34m=\u001b[0m\u001b[0mright\u001b[0m\u001b[0;34m)\u001b[0m\u001b[0;34m\u001b[0m\u001b[0;34m\u001b[0m\u001b[0m\n\u001b[0m\u001b[1;32m    266\u001b[0m         \u001b[0;32mreturn\u001b[0m \u001b[0mtype\u001b[0m\u001b[0;34m(\u001b[0m\u001b[0mleft\u001b[0m\u001b[0;34m)\u001b[0m\u001b[0;34m(\u001b[0m\u001b[0mbm\u001b[0m\u001b[0;34m)\u001b[0m\u001b[0;34m\u001b[0m\u001b[0;34m\u001b[0m\u001b[0m\n\u001b[1;32m    267\u001b[0m \u001b[0;34m\u001b[0m\u001b[0m\n",
      "\u001b[0;32m/usr/local/lib/python3.6/dist-packages/pandas/core/internals/managers.py\u001b[0m in \u001b[0;36mapply\u001b[0;34m(self, f, align_keys, **kwargs)\u001b[0m\n\u001b[1;32m    402\u001b[0m \u001b[0;34m\u001b[0m\u001b[0m\n\u001b[1;32m    403\u001b[0m             \u001b[0;32mif\u001b[0m \u001b[0mcallable\u001b[0m\u001b[0;34m(\u001b[0m\u001b[0mf\u001b[0m\u001b[0;34m)\u001b[0m\u001b[0;34m:\u001b[0m\u001b[0;34m\u001b[0m\u001b[0;34m\u001b[0m\u001b[0m\n\u001b[0;32m--> 404\u001b[0;31m                 \u001b[0mapplied\u001b[0m \u001b[0;34m=\u001b[0m \u001b[0mb\u001b[0m\u001b[0;34m.\u001b[0m\u001b[0mapply\u001b[0m\u001b[0;34m(\u001b[0m\u001b[0mf\u001b[0m\u001b[0;34m,\u001b[0m \u001b[0;34m**\u001b[0m\u001b[0mkwargs\u001b[0m\u001b[0;34m)\u001b[0m\u001b[0;34m\u001b[0m\u001b[0;34m\u001b[0m\u001b[0m\n\u001b[0m\u001b[1;32m    405\u001b[0m             \u001b[0;32melse\u001b[0m\u001b[0;34m:\u001b[0m\u001b[0;34m\u001b[0m\u001b[0;34m\u001b[0m\u001b[0m\n\u001b[1;32m    406\u001b[0m                 \u001b[0mapplied\u001b[0m \u001b[0;34m=\u001b[0m \u001b[0mgetattr\u001b[0m\u001b[0;34m(\u001b[0m\u001b[0mb\u001b[0m\u001b[0;34m,\u001b[0m \u001b[0mf\u001b[0m\u001b[0;34m)\u001b[0m\u001b[0;34m(\u001b[0m\u001b[0;34m**\u001b[0m\u001b[0mkwargs\u001b[0m\u001b[0;34m)\u001b[0m\u001b[0;34m\u001b[0m\u001b[0;34m\u001b[0m\u001b[0m\n",
      "\u001b[0;32m/usr/local/lib/python3.6/dist-packages/pandas/core/internals/blocks.py\u001b[0m in \u001b[0;36mapply\u001b[0;34m(self, func, **kwargs)\u001b[0m\n\u001b[1;32m    344\u001b[0m         \"\"\"\n\u001b[1;32m    345\u001b[0m         \u001b[0;32mwith\u001b[0m \u001b[0mnp\u001b[0m\u001b[0;34m.\u001b[0m\u001b[0merrstate\u001b[0m\u001b[0;34m(\u001b[0m\u001b[0mall\u001b[0m\u001b[0;34m=\u001b[0m\u001b[0;34m\"ignore\"\u001b[0m\u001b[0;34m)\u001b[0m\u001b[0;34m:\u001b[0m\u001b[0;34m\u001b[0m\u001b[0;34m\u001b[0m\u001b[0m\n\u001b[0;32m--> 346\u001b[0;31m             \u001b[0mresult\u001b[0m \u001b[0;34m=\u001b[0m \u001b[0mfunc\u001b[0m\u001b[0;34m(\u001b[0m\u001b[0mself\u001b[0m\u001b[0;34m.\u001b[0m\u001b[0mvalues\u001b[0m\u001b[0;34m,\u001b[0m \u001b[0;34m**\u001b[0m\u001b[0mkwargs\u001b[0m\u001b[0;34m)\u001b[0m\u001b[0;34m\u001b[0m\u001b[0;34m\u001b[0m\u001b[0m\n\u001b[0m\u001b[1;32m    347\u001b[0m \u001b[0;34m\u001b[0m\u001b[0m\n\u001b[1;32m    348\u001b[0m         \u001b[0;32mreturn\u001b[0m \u001b[0mself\u001b[0m\u001b[0;34m.\u001b[0m\u001b[0m_split_op_result\u001b[0m\u001b[0;34m(\u001b[0m\u001b[0mresult\u001b[0m\u001b[0;34m)\u001b[0m\u001b[0;34m\u001b[0m\u001b[0;34m\u001b[0m\u001b[0m\n",
      "\u001b[0;32m/usr/local/lib/python3.6/dist-packages/pandas/core/ops/array_ops.py\u001b[0m in \u001b[0;36mlogical_op\u001b[0;34m(left, right, op)\u001b[0m\n\u001b[1;32m    354\u001b[0m         \u001b[0mfiller\u001b[0m \u001b[0;34m=\u001b[0m \u001b[0mfill_int\u001b[0m \u001b[0;32mif\u001b[0m \u001b[0mis_self_int_dtype\u001b[0m \u001b[0;32mand\u001b[0m \u001b[0mis_other_int_dtype\u001b[0m \u001b[0;32melse\u001b[0m \u001b[0mfill_bool\u001b[0m\u001b[0;34m\u001b[0m\u001b[0;34m\u001b[0m\u001b[0m\n\u001b[1;32m    355\u001b[0m \u001b[0;34m\u001b[0m\u001b[0m\n\u001b[0;32m--> 356\u001b[0;31m         \u001b[0mres_values\u001b[0m \u001b[0;34m=\u001b[0m \u001b[0mna_logical_op\u001b[0m\u001b[0;34m(\u001b[0m\u001b[0mlvalues\u001b[0m\u001b[0;34m,\u001b[0m \u001b[0mrvalues\u001b[0m\u001b[0;34m,\u001b[0m \u001b[0mop\u001b[0m\u001b[0;34m)\u001b[0m\u001b[0;34m\u001b[0m\u001b[0;34m\u001b[0m\u001b[0m\n\u001b[0m\u001b[1;32m    357\u001b[0m         \u001b[0mres_values\u001b[0m \u001b[0;34m=\u001b[0m \u001b[0mfiller\u001b[0m\u001b[0;34m(\u001b[0m\u001b[0mres_values\u001b[0m\u001b[0;34m)\u001b[0m  \u001b[0;31m# type: ignore\u001b[0m\u001b[0;34m\u001b[0m\u001b[0;34m\u001b[0m\u001b[0m\n\u001b[1;32m    358\u001b[0m \u001b[0;34m\u001b[0m\u001b[0m\n",
      "\u001b[0;32m/usr/local/lib/python3.6/dist-packages/pandas/core/ops/array_ops.py\u001b[0m in \u001b[0;36mna_logical_op\u001b[0;34m(x, y, op)\u001b[0m\n\u001b[1;32m    290\u001b[0m                     \u001b[0;34mf\"Cannot perform '{op.__name__}' with a dtyped [{x.dtype}] array \"\u001b[0m\u001b[0;34m\u001b[0m\u001b[0;34m\u001b[0m\u001b[0m\n\u001b[1;32m    291\u001b[0m                     \u001b[0;34mf\"and scalar of type [{typ}]\"\u001b[0m\u001b[0;34m\u001b[0m\u001b[0;34m\u001b[0m\u001b[0m\n\u001b[0;32m--> 292\u001b[0;31m                 ) from err\n\u001b[0m\u001b[1;32m    293\u001b[0m \u001b[0;34m\u001b[0m\u001b[0m\n\u001b[1;32m    294\u001b[0m     \u001b[0;32mreturn\u001b[0m \u001b[0mresult\u001b[0m\u001b[0;34m.\u001b[0m\u001b[0mreshape\u001b[0m\u001b[0;34m(\u001b[0m\u001b[0mx\u001b[0m\u001b[0;34m.\u001b[0m\u001b[0mshape\u001b[0m\u001b[0;34m)\u001b[0m\u001b[0;34m\u001b[0m\u001b[0;34m\u001b[0m\u001b[0m\n",
      "\u001b[0;31mTypeError\u001b[0m: Cannot perform 'ror_' with a dtyped [bool] array and scalar of type [NoneType]"
     ]
    }
   ],
   "source": [
    "print(df < (Q1 - 1.5 * IQR)) |(df > (Q3 + 1.5 * IQR))"
   ]
  },
  {
   "cell_type": "markdown",
   "metadata": {
    "id": "DACtNlxF0gDO"
   },
   "source": [
    "The first line of code below prints the skewness value for the 'Ice conc' variable, while the second line prints the summary statistics."
   ]
  },
  {
   "cell_type": "code",
   "execution_count": 65,
   "metadata": {
    "colab": {
     "base_uri": "https://localhost:8080/"
    },
    "id": "MODPFZ-R0vRH",
    "outputId": "866a17a4-bb22-4649-d420-cbf91e32cd2f"
   },
   "outputs": [
    {
     "name": "stdout",
     "output_type": "stream",
     "text": [
      "-0.5830111232016486\n"
     ]
    },
    {
     "data": {
      "text/plain": [
       "count    3.100000e+01\n",
       "mean     2.945925e+07\n",
       "std      8.853718e+02\n",
       "min      2.945754e+07\n",
       "25%      2.945863e+07\n",
       "50%      2.945952e+07\n",
       "75%      2.945991e+07\n",
       "max      2.946060e+07\n",
       "Name: ANTARCTICA ICE MASS [GT], dtype: float64"
      ]
     },
     "execution_count": 65,
     "metadata": {
      "tags": []
     },
     "output_type": "execute_result"
    }
   ],
   "source": [
    "print(df['ANTARCTICA ICE MASS [GT]'].skew())\n",
    "df['ANTARCTICA ICE MASS [GT]'].describe()"
   ]
  },
  {
   "cell_type": "code",
   "execution_count": 68,
   "metadata": {
    "colab": {
     "base_uri": "https://localhost:8080/"
    },
    "id": "1YNa2eRb14Zk",
    "outputId": "398c06d8-1db5-4b5f-9703-85e0494161ed"
   },
   "outputs": [
    {
     "name": "stdout",
     "output_type": "stream",
     "text": [
      "(30, 11)\n"
     ]
    }
   ],
   "source": [
    "df_out = df[~((df < (Q1 - 1.5 * IQR)) |(df > (Q3 + 1.5 * IQR))).any(axis=1)]\n",
    "print(df_out.shape)"
   ]
  },
  {
   "cell_type": "code",
   "execution_count": 71,
   "metadata": {
    "colab": {
     "base_uri": "https://localhost:8080/",
     "height": 389
    },
    "id": "-uX_1CwM2bpk",
    "outputId": "7e7eb438-a034-4c2f-8879-69c61f51e48a"
   },
   "outputs": [
    {
     "name": "stdout",
     "output_type": "stream",
     "text": [
      "22.6567816091954\n",
      "25.85\n"
     ]
    },
    {
     "data": {
      "text/html": [
       "<div>\n",
       "<style scoped>\n",
       "    .dataframe tbody tr th:only-of-type {\n",
       "        vertical-align: middle;\n",
       "    }\n",
       "\n",
       "    .dataframe tbody tr th {\n",
       "        vertical-align: top;\n",
       "    }\n",
       "\n",
       "    .dataframe thead th {\n",
       "        text-align: right;\n",
       "    }\n",
       "</style>\n",
       "<table border=\"1\" class=\"dataframe\">\n",
       "  <thead>\n",
       "    <tr style=\"text-align: right;\">\n",
       "      <th></th>\n",
       "      <th>YEAR</th>\n",
       "      <th>CO2 CONCENTRATION [PPM]</th>\n",
       "      <th>CH4 CONCENTRATION [PPM]</th>\n",
       "      <th>N2O CONCENTRATION [PPM]</th>\n",
       "      <th>MEAN SEA LEVEL [CM]</th>\n",
       "      <th>POPULATION</th>\n",
       "      <th>TEMPERAUTRE [°C]</th>\n",
       "      <th>STRATOSPHERIC OZONE CONC [Dobson Units (DU)]</th>\n",
       "      <th>ANTARCTIC OZONE HOLE AREA[Million sq.km]</th>\n",
       "      <th>TREE COVER LOSS [Million Hectares(MHa)]</th>\n",
       "      <th>ANTARCTICA ICE MASS [GT]</th>\n",
       "    </tr>\n",
       "  </thead>\n",
       "  <tbody>\n",
       "    <tr>\n",
       "      <th>count</th>\n",
       "      <td>31.000000</td>\n",
       "      <td>31.000000</td>\n",
       "      <td>31.000000</td>\n",
       "      <td>31.000000</td>\n",
       "      <td>31.000000</td>\n",
       "      <td>3.100000e+01</td>\n",
       "      <td>31.000000</td>\n",
       "      <td>31.000000</td>\n",
       "      <td>31.000000</td>\n",
       "      <td>3.100000e+01</td>\n",
       "      <td>31.0</td>\n",
       "    </tr>\n",
       "    <tr>\n",
       "      <th>mean</th>\n",
       "      <td>2005.000000</td>\n",
       "      <td>384.353548</td>\n",
       "      <td>1794.370968</td>\n",
       "      <td>320.255161</td>\n",
       "      <td>17.480968</td>\n",
       "      <td>6.555245e+09</td>\n",
       "      <td>14.735742</td>\n",
       "      <td>115.090323</td>\n",
       "      <td>22.181832</td>\n",
       "      <td>1.699653e+07</td>\n",
       "      <td>140.0</td>\n",
       "    </tr>\n",
       "    <tr>\n",
       "      <th>std</th>\n",
       "      <td>9.092121</td>\n",
       "      <td>18.871761</td>\n",
       "      <td>42.174322</td>\n",
       "      <td>7.637258</td>\n",
       "      <td>2.786617</td>\n",
       "      <td>7.448286e+08</td>\n",
       "      <td>0.210870</td>\n",
       "      <td>14.838247</td>\n",
       "      <td>3.134830</td>\n",
       "      <td>6.311707e+06</td>\n",
       "      <td>0.0</td>\n",
       "    </tr>\n",
       "    <tr>\n",
       "      <th>min</th>\n",
       "      <td>1990.000000</td>\n",
       "      <td>356.630000</td>\n",
       "      <td>1723.200000</td>\n",
       "      <td>309.260000</td>\n",
       "      <td>13.420000</td>\n",
       "      <td>5.327231e+09</td>\n",
       "      <td>14.344000</td>\n",
       "      <td>92.300000</td>\n",
       "      <td>12.000000</td>\n",
       "      <td>7.106544e+06</td>\n",
       "      <td>140.0</td>\n",
       "    </tr>\n",
       "    <tr>\n",
       "      <th>25%</th>\n",
       "      <td>1997.500000</td>\n",
       "      <td>368.105000</td>\n",
       "      <td>1763.150000</td>\n",
       "      <td>313.820000</td>\n",
       "      <td>15.105000</td>\n",
       "      <td>5.944920e+09</td>\n",
       "      <td>14.563000</td>\n",
       "      <td>105.650000</td>\n",
       "      <td>20.700000</td>\n",
       "      <td>1.205153e+07</td>\n",
       "      <td>140.0</td>\n",
       "    </tr>\n",
       "    <tr>\n",
       "      <th>50%</th>\n",
       "      <td>2005.000000</td>\n",
       "      <td>382.580000</td>\n",
       "      <td>1780.900000</td>\n",
       "      <td>319.680000</td>\n",
       "      <td>17.380000</td>\n",
       "      <td>6.541907e+09</td>\n",
       "      <td>14.754000</td>\n",
       "      <td>113.800000</td>\n",
       "      <td>22.656782</td>\n",
       "      <td>1.757921e+07</td>\n",
       "      <td>140.0</td>\n",
       "    </tr>\n",
       "    <tr>\n",
       "      <th>75%</th>\n",
       "      <td>2012.500000</td>\n",
       "      <td>398.750000</td>\n",
       "      <td>1818.400000</td>\n",
       "      <td>325.945000</td>\n",
       "      <td>19.645000</td>\n",
       "      <td>7.168205e+09</td>\n",
       "      <td>14.843000</td>\n",
       "      <td>123.350000</td>\n",
       "      <td>24.550000</td>\n",
       "      <td>2.027598e+07</td>\n",
       "      <td>140.0</td>\n",
       "    </tr>\n",
       "    <tr>\n",
       "      <th>max</th>\n",
       "      <td>2020.000000</td>\n",
       "      <td>418.740000</td>\n",
       "      <td>1876.300000</td>\n",
       "      <td>333.900000</td>\n",
       "      <td>22.010000</td>\n",
       "      <td>7.794799e+09</td>\n",
       "      <td>15.158000</td>\n",
       "      <td>157.400000</td>\n",
       "      <td>26.600000</td>\n",
       "      <td>2.967480e+07</td>\n",
       "      <td>140.0</td>\n",
       "    </tr>\n",
       "  </tbody>\n",
       "</table>\n",
       "</div>"
      ],
      "text/plain": [
       "              YEAR  ...  ANTARCTICA ICE MASS [GT]\n",
       "count    31.000000  ...                      31.0\n",
       "mean   2005.000000  ...                     140.0\n",
       "std       9.092121  ...                       0.0\n",
       "min    1990.000000  ...                     140.0\n",
       "25%    1997.500000  ...                     140.0\n",
       "50%    2005.000000  ...                     140.0\n",
       "75%    2012.500000  ...                     140.0\n",
       "max    2020.000000  ...                     140.0\n",
       "\n",
       "[8 rows x 11 columns]"
      ]
     },
     "execution_count": 71,
     "metadata": {
      "tags": []
     },
     "output_type": "execute_result"
    }
   ],
   "source": [
    "print(df['ANTARCTIC OZONE HOLE AREA[Million sq.km]'].quantile(0.50)) \n",
    "print(df['ANTARCTIC OZONE HOLE AREA[Million sq.km]'].quantile(0.95)) \n",
    "df['ANTARCTIC OZONE HOLE AREA[Million sq.km]'] = np.where(df['ANTARCTIC OZONE HOLE AREA[Million sq.km]'] > 325, 140, df['ANTARCTIC OZONE HOLE AREA[Million sq.km]'])\n",
    "df.describe()"
   ]
  },
  {
   "cell_type": "code",
   "execution_count": 72,
   "metadata": {
    "colab": {
     "base_uri": "https://localhost:8080/",
     "height": 389
    },
    "id": "ySHrfSso3Lk_",
    "outputId": "757d0bda-57b2-46bc-bea6-b807d0f107d5"
   },
   "outputs": [
    {
     "name": "stdout",
     "output_type": "stream",
     "text": [
      "113.8\n",
      "140.55\n"
     ]
    },
    {
     "data": {
      "text/html": [
       "<div>\n",
       "<style scoped>\n",
       "    .dataframe tbody tr th:only-of-type {\n",
       "        vertical-align: middle;\n",
       "    }\n",
       "\n",
       "    .dataframe tbody tr th {\n",
       "        vertical-align: top;\n",
       "    }\n",
       "\n",
       "    .dataframe thead th {\n",
       "        text-align: right;\n",
       "    }\n",
       "</style>\n",
       "<table border=\"1\" class=\"dataframe\">\n",
       "  <thead>\n",
       "    <tr style=\"text-align: right;\">\n",
       "      <th></th>\n",
       "      <th>YEAR</th>\n",
       "      <th>CO2 CONCENTRATION [PPM]</th>\n",
       "      <th>CH4 CONCENTRATION [PPM]</th>\n",
       "      <th>N2O CONCENTRATION [PPM]</th>\n",
       "      <th>MEAN SEA LEVEL [CM]</th>\n",
       "      <th>POPULATION</th>\n",
       "      <th>TEMPERAUTRE [°C]</th>\n",
       "      <th>STRATOSPHERIC OZONE CONC [Dobson Units (DU)]</th>\n",
       "      <th>ANTARCTIC OZONE HOLE AREA[Million sq.km]</th>\n",
       "      <th>TREE COVER LOSS [Million Hectares(MHa)]</th>\n",
       "      <th>ANTARCTICA ICE MASS [GT]</th>\n",
       "    </tr>\n",
       "  </thead>\n",
       "  <tbody>\n",
       "    <tr>\n",
       "      <th>count</th>\n",
       "      <td>31.000000</td>\n",
       "      <td>31.000000</td>\n",
       "      <td>31.000000</td>\n",
       "      <td>31.000000</td>\n",
       "      <td>31.000000</td>\n",
       "      <td>3.100000e+01</td>\n",
       "      <td>31.000000</td>\n",
       "      <td>31.000000</td>\n",
       "      <td>31.000000</td>\n",
       "      <td>3.100000e+01</td>\n",
       "      <td>31.0</td>\n",
       "    </tr>\n",
       "    <tr>\n",
       "      <th>mean</th>\n",
       "      <td>2005.000000</td>\n",
       "      <td>384.353548</td>\n",
       "      <td>1794.370968</td>\n",
       "      <td>320.255161</td>\n",
       "      <td>17.480968</td>\n",
       "      <td>6.555245e+09</td>\n",
       "      <td>14.735742</td>\n",
       "      <td>115.090323</td>\n",
       "      <td>22.181832</td>\n",
       "      <td>1.699653e+07</td>\n",
       "      <td>140.0</td>\n",
       "    </tr>\n",
       "    <tr>\n",
       "      <th>std</th>\n",
       "      <td>9.092121</td>\n",
       "      <td>18.871761</td>\n",
       "      <td>42.174322</td>\n",
       "      <td>7.637258</td>\n",
       "      <td>2.786617</td>\n",
       "      <td>7.448286e+08</td>\n",
       "      <td>0.210870</td>\n",
       "      <td>14.838247</td>\n",
       "      <td>3.134830</td>\n",
       "      <td>6.311707e+06</td>\n",
       "      <td>0.0</td>\n",
       "    </tr>\n",
       "    <tr>\n",
       "      <th>min</th>\n",
       "      <td>1990.000000</td>\n",
       "      <td>356.630000</td>\n",
       "      <td>1723.200000</td>\n",
       "      <td>309.260000</td>\n",
       "      <td>13.420000</td>\n",
       "      <td>5.327231e+09</td>\n",
       "      <td>14.344000</td>\n",
       "      <td>92.300000</td>\n",
       "      <td>12.000000</td>\n",
       "      <td>7.106544e+06</td>\n",
       "      <td>140.0</td>\n",
       "    </tr>\n",
       "    <tr>\n",
       "      <th>25%</th>\n",
       "      <td>1997.500000</td>\n",
       "      <td>368.105000</td>\n",
       "      <td>1763.150000</td>\n",
       "      <td>313.820000</td>\n",
       "      <td>15.105000</td>\n",
       "      <td>5.944920e+09</td>\n",
       "      <td>14.563000</td>\n",
       "      <td>105.650000</td>\n",
       "      <td>20.700000</td>\n",
       "      <td>1.205153e+07</td>\n",
       "      <td>140.0</td>\n",
       "    </tr>\n",
       "    <tr>\n",
       "      <th>50%</th>\n",
       "      <td>2005.000000</td>\n",
       "      <td>382.580000</td>\n",
       "      <td>1780.900000</td>\n",
       "      <td>319.680000</td>\n",
       "      <td>17.380000</td>\n",
       "      <td>6.541907e+09</td>\n",
       "      <td>14.754000</td>\n",
       "      <td>113.800000</td>\n",
       "      <td>22.656782</td>\n",
       "      <td>1.757921e+07</td>\n",
       "      <td>140.0</td>\n",
       "    </tr>\n",
       "    <tr>\n",
       "      <th>75%</th>\n",
       "      <td>2012.500000</td>\n",
       "      <td>398.750000</td>\n",
       "      <td>1818.400000</td>\n",
       "      <td>325.945000</td>\n",
       "      <td>19.645000</td>\n",
       "      <td>7.168205e+09</td>\n",
       "      <td>14.843000</td>\n",
       "      <td>123.350000</td>\n",
       "      <td>24.550000</td>\n",
       "      <td>2.027598e+07</td>\n",
       "      <td>140.0</td>\n",
       "    </tr>\n",
       "    <tr>\n",
       "      <th>max</th>\n",
       "      <td>2020.000000</td>\n",
       "      <td>418.740000</td>\n",
       "      <td>1876.300000</td>\n",
       "      <td>333.900000</td>\n",
       "      <td>22.010000</td>\n",
       "      <td>7.794799e+09</td>\n",
       "      <td>15.158000</td>\n",
       "      <td>157.400000</td>\n",
       "      <td>26.600000</td>\n",
       "      <td>2.967480e+07</td>\n",
       "      <td>140.0</td>\n",
       "    </tr>\n",
       "  </tbody>\n",
       "</table>\n",
       "</div>"
      ],
      "text/plain": [
       "              YEAR  ...  ANTARCTICA ICE MASS [GT]\n",
       "count    31.000000  ...                      31.0\n",
       "mean   2005.000000  ...                     140.0\n",
       "std       9.092121  ...                       0.0\n",
       "min    1990.000000  ...                     140.0\n",
       "25%    1997.500000  ...                     140.0\n",
       "50%    2005.000000  ...                     140.0\n",
       "75%    2012.500000  ...                     140.0\n",
       "max    2020.000000  ...                     140.0\n",
       "\n",
       "[8 rows x 11 columns]"
      ]
     },
     "execution_count": 72,
     "metadata": {
      "tags": []
     },
     "output_type": "execute_result"
    }
   ],
   "source": [
    "print(df['STRATOSPHERIC OZONE CONC [Dobson Units (DU)]'].quantile(0.50)) \n",
    "print(df['STRATOSPHERIC OZONE CONC [Dobson Units (DU)]'].quantile(0.95)) \n",
    "df['STRATOSPHERIC OZONE CONC [Dobson Units (DU)]'] = np.where(df['STRATOSPHERIC OZONE CONC [Dobson Units (DU)]'] > 325, 140, df['STRATOSPHERIC OZONE CONC [Dobson Units (DU)]'])\n",
    "df.describe()"
   ]
  }
 ],
 "metadata": {
  "colab": {
   "collapsed_sections": [],
   "name": "Ice Deposit melting.ipynb",
   "provenance": [],
   "toc_visible": true
  },
  "kernelspec": {
   "display_name": "Python 3 (ipykernel)",
   "language": "python",
   "name": "python3"
  },
  "language_info": {
   "codemirror_mode": {
    "name": "ipython",
    "version": 3
   },
   "file_extension": ".py",
   "mimetype": "text/x-python",
   "name": "python",
   "nbconvert_exporter": "python",
   "pygments_lexer": "ipython3",
   "version": "3.8.8"
  }
 },
 "nbformat": 4,
 "nbformat_minor": 1
}
